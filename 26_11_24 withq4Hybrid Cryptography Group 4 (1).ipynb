{
 "cells": [
  {
   "cell_type": "code",
   "execution_count": 1,
   "id": "d9da7753",
   "metadata": {},
   "outputs": [],
   "source": [
    "##### IMPORTS ####\n",
    "import random, requests, os, matplotlib.pyplot as plt, cryptography_functions\n",
    "\n",
    "### LET USER INPUT TEXT FILE NAME ####"
   ]
  },
  {
   "cell_type": "code",
   "execution_count": 47,
   "id": "1784b74a",
   "metadata": {},
   "outputs": [],
   "source": [
    "#### FINDING FILE IN DIRECTORY ####\n",
    "\n",
    "def find_file():\n",
    "    in_directory = False\n",
    "\n",
    "    while in_directory == False:\n",
    "        file_name = input(\"Input the name of the text file you would like to encrypt / decrypt, including the .txt: \")\n",
    "        if os.path.isfile(file_name):\n",
    "            in_directory = True\n",
    "        else:\n",
    "            print(\"\")\n",
    "            print(\"The file you inputted is not in the directory, try again\")\n",
    "          \n",
    "    return file_name"
   ]
  },
  {
   "cell_type": "code",
   "execution_count": 21,
   "id": "b0f1171d",
   "metadata": {},
   "outputs": [],
   "source": [
    "#### CASESAR CYPHER ##### (maintains case of characters)\n",
    "\n",
    "def caesar_encrypt(): #defines the caesar encryption function\n",
    "    \n",
    "    file_name = find_file()\n",
    "\n",
    "    input_text = open(file_name,\"r\") #opens the text file we want to read\n",
    "    message = input_text.read() #reads the text file to the variable message\n",
    "    \n",
    "    encrypted_text = open(\"encrypted_text.txt\",\"w\") #opens the encrypted text file to which we write the encryption\n",
    "    \n",
    "    shift_value_file = open(\"_caesar_shift_value.txt\",\"w\")\n",
    "    shift_value = random.randint(1,26) #generates a shift value between 1 and 26 inclusive\n",
    "    \n",
    "    encrypted_message = []\n",
    "    \n",
    "    for character in message: #iterates character through each element of the message\n",
    "        if character.isalpha(): #checks to see if the character is in the alphabet\n",
    "            \n",
    "            if character.isupper(): #checks to see if character is uppercase\n",
    "                offset = 65 #sets appropriate offset value\n",
    "            else:\n",
    "                offset = 97\n",
    "            \n",
    "            character_offset = ord(character)-offset #offsets character to be between 0 and 25\n",
    "\n",
    "            encrypted_message.append(chr((character_offset+shift_value)%26+offset))\n",
    "            #appends our changed letter to the encrypted message list\n",
    "    \n",
    "\n",
    "    final_text = \"\".join(encrypted_message) #turns the list into a string\n",
    "    encrypted_text.write(final_text) #writes the string to the text file\n",
    "    shift_value_file.write(str(shift_value))\n",
    "    shift_value_file.close()\n",
    "    encrypted_text.close()\n",
    "    print(\"\")\n",
    "    print(\"Encrypted message written to encrypted_text.txt\")\n",
    "    input_text.close() #closes the files\n",
    "    \n",
    "    return \n"
   ]
  },
  {
   "cell_type": "code",
   "execution_count": 22,
   "id": "4cc24d0a",
   "metadata": {},
   "outputs": [],
   "source": [
    "def caesar_decrypt(): #needs a shift value to decrypt \n",
    "    \n",
    "    file_name = find_file() #lets the user input the file name they would like to read\n",
    "    \n",
    "    shift_value_file = open(\"_caesar_shift_value.txt\",\"r\") #opens the shift value file\n",
    "    shift_value = int(shift_value_file.read()) #read the integer value stored there\n",
    "    \n",
    "    encrypted_text = open(file_name,\"r\") #opens the encrypted text file to read\n",
    "    cryptic = encrypted_text.read() #sets cryptic to the string value of all the text in encrypted_text.txt\n",
    "    \n",
    "    decrypted_text = open(\"decrypted_text.txt\",\"w\") #opens the decrypted text file to write to    \n",
    "\n",
    "    decrypted_message = []\n",
    "       \n",
    "    for character in cryptic: #iterates each character in the cryptic text\n",
    "        if character.isalpha(): #checks if character is in alphabet\n",
    "            \n",
    "            if character.isupper(): #checks if character is uppercase\n",
    "                offset = 65 #sets appropriate offset\n",
    "            else:\n",
    "                offset = 97\n",
    "            \n",
    "            character_offset = ord(character)-offset #offsets character to be between 0 and 25\n",
    "            \n",
    "            decrypted_message.append(chr((character_offset-shift_value)%26+offset))\n",
    "            #appends decrypted character to decrypted message list\n",
    "    \n",
    "    \n",
    "        \n",
    "    final_text = \"\".join(decrypted_message) #changes the list into a string\n",
    "    decrypted_text.write(final_text) #writes the string to the text file\n",
    "    \n",
    "    decrypted_text.close()  \n",
    "    encrypted_text.close()#closes the files\n",
    "    print(\"\")\n",
    "    print(\"Decrypted message written to decrypted_text.txt\")\n",
    "    \n",
    "    return "
   ]
  },
  {
   "cell_type": "code",
   "execution_count": 23,
   "id": "d112525f",
   "metadata": {},
   "outputs": [],
   "source": [
    "#caesar_encrypt()"
   ]
  },
  {
   "cell_type": "code",
   "execution_count": 6,
   "id": "5bc39ff0",
   "metadata": {},
   "outputs": [],
   "source": [
    "#caesar_decrypt()"
   ]
  },
  {
   "cell_type": "code",
   "execution_count": 25,
   "id": "fdcdfebc",
   "metadata": {},
   "outputs": [],
   "source": [
    "#### VIGENERE CYPHER ####\n",
    "def vigenere_encrypt():\n",
    "    \n",
    "    file_name = find_file()\n",
    "    \n",
    "    input_text = open(file_name,\"r\") #opens the text file we want to read\n",
    "    message_list_unfiltered = list(input_text.read()) #reads the text file to the variable message\n",
    "    message_list = [x for x in message_list_unfiltered if x.isalpha()] #makes a list of only alphabetical characters\n",
    "    encrypted_text = open(\"encrypted_text.txt\",\"w\") #opens the encrypted text file to which we write the encryption\n",
    "    key_file = open(\"_vigenere_key.txt\",\"w\")\n",
    "   \n",
    "    \n",
    "    encrypted_message = []\n",
    "    key_length = random.randint(129,384) #generates a random length for our keyword\n",
    "    \n",
    "    key_list = [random.randint(0,25) for x in range(0,key_length)] #generates a list for our keyword in ASCII\n",
    "    \n",
    "    for i in range(0,len(message_list)):\n",
    "\n",
    "        key_pos =  i%len(key_list) #generates position of where we are in the key\n",
    "        \n",
    "\n",
    "        character = message_list[i] #sets character to message character for ease\n",
    "        if character.isupper(): #checks if y is uppercase in the alphabet\n",
    "            offset = 65 #sets ASCII offsets\n",
    "        else: offset = 97\n",
    "\n",
    "        character_offset = ord(character) - offset #offsets character to be within 0 and 25\n",
    "\n",
    "        character_encrypted = (character_offset+key_list[key_pos])%26 + offset #encrypts the character \n",
    "\n",
    "        encrypted_message.append(chr(character_encrypted)) #appends encrypted character to encrypted message\n",
    "       \n",
    "    final_text = \"\".join(encrypted_message)\n",
    "    encrypted_text.write(final_text) #writes the final encrypted message to the file\n",
    "    \n",
    "    key = \"\".join(chr(m+65) for m in key_list) #turns keylist into a string\n",
    "    key_file.write(key) #writes the key to the file\n",
    "    \n",
    "    \n",
    "    encrypted_text.close()\n",
    "    input_text.close() #closes the files\n",
    "    key_file.close()\n",
    "    \n",
    "    print(\"Encrypted text written to encrypted_text.txt, and vigenere key written to _vigenere_key.txt\")\n",
    "    \n",
    "    return      "
   ]
  },
  {
   "cell_type": "code",
   "execution_count": 26,
   "id": "74e49e46",
   "metadata": {},
   "outputs": [],
   "source": [
    "def vigenere_decrypt():\n",
    "    \n",
    "    file_name = find_file()\n",
    "    \n",
    "    key_file = open(\"_vigenere_key.txt\",\"r\") #opens file with key in it to read\n",
    "    key = key_file.read() #reads the file to key\n",
    "    key_list = [ord(m) - 65 for m in key] #offsets all values of key to be between 0 and 25\n",
    "    \n",
    "    encrypted_text = open(file_name,\"r\") #opens encrypted text file to read\n",
    "    cryptic = encrypted_text.read() #reads the file to cryptic\n",
    "    \n",
    "    decrypted_text = open(\"decrypted_text.txt\",\"w\") #opens the decrypted text file to write to\n",
    "    decrypted_message = [] #creates decrypted message list\n",
    "  \n",
    "    for i in range(0,len(cryptic)): #iterates through the encrypted message\n",
    "        character = cryptic[i] #sets character to the current character\n",
    "        key_pos = i%len(key_list) #sets our position within the key \n",
    "        \n",
    "        if character.isupper(): #checks to see if the character is uppercase\n",
    "            offset = 65 #sets appropriate offset value\n",
    "        else:\n",
    "            offset = 97\n",
    "            \n",
    "        character_offset = ord(character)-offset #offsets character to be between 0 and 25\n",
    "        \n",
    "        character_decrypted = (character_offset-key_list[key_pos])%26 + offset\n",
    "        #decrypts the character using the keyword\n",
    "        \n",
    "        decrypted_message.append(chr(character_decrypted)) #appends character to decrypted message\n",
    "        \n",
    "    final_text = \"\".join(decrypted_message) #turns decrypted message into a string\n",
    "    decrypted_text.write(final_text) #writes this string to the decrypted text file\n",
    "    \n",
    "    decrypted_text.close() #closes the files\n",
    "    encrypted_text.close()\n",
    "    key_file.close()\n",
    "    return\n",
    "    \n",
    "    \n",
    "    "
   ]
  },
  {
   "cell_type": "code",
   "execution_count": 27,
   "id": "e336494c",
   "metadata": {},
   "outputs": [],
   "source": [
    "#vigenere_encrypt()"
   ]
  },
  {
   "cell_type": "code",
   "execution_count": 28,
   "id": "486891a0",
   "metadata": {},
   "outputs": [],
   "source": [
    "#vigenere_decrypt()"
   ]
  },
  {
   "cell_type": "code",
   "execution_count": 29,
   "id": "87a19902",
   "metadata": {},
   "outputs": [],
   "source": [
    "#### URL TEXT EXTRACTING ####\n",
    "def url_to_text_utf8(url):  #### Sourced code from the GitHub repo provided for this project\n",
    "    '''\n",
    "    Given a url for a text that is \n",
    "    'utf-8' encoded this function \n",
    "    returns that text.\n",
    "    '''\n",
    "    response = requests.get(url) #gets the URL of the text file\n",
    "    response.encoding = 'utf-8-sig' #encodes the text file\n",
    "    return response.text #returns the text file\n",
    "           \n",
    "def get_large_text():        \n",
    "    wonderland = url_to_text_utf8(\"https://gutenberg.org/cache/epub/11/pg11.txt\")[1490:148820]\n",
    "    gatsby = url_to_text_utf8(\"https://gutenberg.org/cache/epub/64317/pg64317.txt\")[1497:278020]\n",
    "    dracula = url_to_text_utf8(\"https://gutenberg.org/cache/epub/345/pg345.txt\")[3130:860610]\n",
    "    moby = url_to_text_utf8(\"https://gutenberg.org/cache/epub/2701/pg2701.txt\")[6000:1241690]\n",
    "    frankenstein = url_to_text_utf8(\"https://gutenberg.org/cache/epub/84/pg84.txt\")[1440:427680]\n",
    "    #creates large strings of texts from english books for analysis later\n",
    "\n",
    "    text = wonderland + gatsby + dracula + moby + frankenstein\n",
    "    return text\n",
    "\n",
    "    #text gives us approximately 3 million characters to analyse (not all may be alphabet though most all are)\n"
   ]
  },
  {
   "cell_type": "code",
   "execution_count": 30,
   "id": "46720c91",
   "metadata": {},
   "outputs": [],
   "source": [
    "def frequency_finder(text):\n",
    "    descending_frequencies = open(\"decsending_frequent_letters.txt\",\"w\")\n",
    "    counts = {chr(x):0 for x in range(65,91)} #creates a dictionary of all the letters in the alphabet with value 0\n",
    "    text = text.upper() #makes all text uppercase\n",
    "    for character in text: #iterates through all the elements of the string \"text\"\n",
    "        if character in counts: #checks if the element is an alphabet letter\n",
    "            counts[character]+=1 #ups the count by one for each letter\n",
    "    sorted_counts = dict(sorted(counts.items(), key=lambda item: item[1],reverse=True)) #sorts the dictionary by value\n",
    "    frequency = [x for x in sorted_counts] #creates an ordered list of the letters in decreasing frequency\n",
    "    descending_frequencies.write(\"\".join(frequency))\n",
    "    descending_frequencies.close()\n",
    "    return frequency"
   ]
  },
  {
   "cell_type": "code",
   "execution_count": 31,
   "id": "a32396ce",
   "metadata": {},
   "outputs": [
    {
     "ename": "NameError",
     "evalue": "name 'requests' is not defined",
     "output_type": "error",
     "traceback": [
      "\u001b[0;31m---------------------------------------------------------------------------\u001b[0m",
      "\u001b[0;31mNameError\u001b[0m                                 Traceback (most recent call last)",
      "Cell \u001b[0;32mIn[31], line 2\u001b[0m\n\u001b[1;32m      1\u001b[0m \u001b[38;5;66;03m#### GET FREQUENCY OF LETTERS IN ENGLISH LANGUAGE, WRITE TO FILE IN DESCENDING ORDER ####\u001b[39;00m\n\u001b[0;32m----> 2\u001b[0m text \u001b[38;5;241m=\u001b[39m \u001b[43mget_large_text\u001b[49m\u001b[43m(\u001b[49m\u001b[43m)\u001b[49m\n\u001b[1;32m      3\u001b[0m counts \u001b[38;5;241m=\u001b[39m {\u001b[38;5;28mchr\u001b[39m(x):\u001b[38;5;241m0\u001b[39m \u001b[38;5;28;01mfor\u001b[39;00m x \u001b[38;5;129;01min\u001b[39;00m \u001b[38;5;28mrange\u001b[39m(\u001b[38;5;241m65\u001b[39m,\u001b[38;5;241m91\u001b[39m)}\n\u001b[1;32m      4\u001b[0m text \u001b[38;5;241m=\u001b[39m text\u001b[38;5;241m.\u001b[39mupper()\n",
      "Cell \u001b[0;32mIn[29], line 13\u001b[0m, in \u001b[0;36mget_large_text\u001b[0;34m()\u001b[0m\n\u001b[1;32m     12\u001b[0m \u001b[38;5;28;01mdef\u001b[39;00m \u001b[38;5;21mget_large_text\u001b[39m():        \n\u001b[0;32m---> 13\u001b[0m     wonderland \u001b[38;5;241m=\u001b[39m \u001b[43murl_to_text_utf8\u001b[49m\u001b[43m(\u001b[49m\u001b[38;5;124;43m\"\u001b[39;49m\u001b[38;5;124;43mhttps://gutenberg.org/cache/epub/11/pg11.txt\u001b[39;49m\u001b[38;5;124;43m\"\u001b[39;49m\u001b[43m)\u001b[49m[\u001b[38;5;241m1490\u001b[39m:\u001b[38;5;241m148820\u001b[39m]\n\u001b[1;32m     14\u001b[0m     gatsby \u001b[38;5;241m=\u001b[39m url_to_text_utf8(\u001b[38;5;124m\"\u001b[39m\u001b[38;5;124mhttps://gutenberg.org/cache/epub/64317/pg64317.txt\u001b[39m\u001b[38;5;124m\"\u001b[39m)[\u001b[38;5;241m1497\u001b[39m:\u001b[38;5;241m278020\u001b[39m]\n\u001b[1;32m     15\u001b[0m     dracula \u001b[38;5;241m=\u001b[39m url_to_text_utf8(\u001b[38;5;124m\"\u001b[39m\u001b[38;5;124mhttps://gutenberg.org/cache/epub/345/pg345.txt\u001b[39m\u001b[38;5;124m\"\u001b[39m)[\u001b[38;5;241m3130\u001b[39m:\u001b[38;5;241m860610\u001b[39m]\n",
      "Cell \u001b[0;32mIn[29], line 8\u001b[0m, in \u001b[0;36murl_to_text_utf8\u001b[0;34m(url)\u001b[0m\n\u001b[1;32m      2\u001b[0m \u001b[38;5;28;01mdef\u001b[39;00m \u001b[38;5;21murl_to_text_utf8\u001b[39m(url):  \u001b[38;5;66;03m#### Sourced code from the GitHub repo provided for this project\u001b[39;00m\n\u001b[1;32m      3\u001b[0m     \u001b[38;5;124;03m'''\u001b[39;00m\n\u001b[1;32m      4\u001b[0m \u001b[38;5;124;03m    Given a url for a text that is \u001b[39;00m\n\u001b[1;32m      5\u001b[0m \u001b[38;5;124;03m    'utf-8' encoded this function \u001b[39;00m\n\u001b[1;32m      6\u001b[0m \u001b[38;5;124;03m    returns that text.\u001b[39;00m\n\u001b[1;32m      7\u001b[0m \u001b[38;5;124;03m    '''\u001b[39;00m\n\u001b[0;32m----> 8\u001b[0m     response \u001b[38;5;241m=\u001b[39m \u001b[43mrequests\u001b[49m\u001b[38;5;241m.\u001b[39mget(url) \u001b[38;5;66;03m#gets the URL of the text file\u001b[39;00m\n\u001b[1;32m      9\u001b[0m     response\u001b[38;5;241m.\u001b[39mencoding \u001b[38;5;241m=\u001b[39m \u001b[38;5;124m'\u001b[39m\u001b[38;5;124mutf-8-sig\u001b[39m\u001b[38;5;124m'\u001b[39m \u001b[38;5;66;03m#encodes the text file\u001b[39;00m\n\u001b[1;32m     10\u001b[0m     \u001b[38;5;28;01mreturn\u001b[39;00m response\u001b[38;5;241m.\u001b[39mtext\n",
      "\u001b[0;31mNameError\u001b[0m: name 'requests' is not defined"
     ]
    }
   ],
   "source": [
    "#### GET FREQUENCY OF LETTERS IN ENGLISH LANGUAGE, WRITE TO FILE IN DESCENDING ORDER ####\n",
    "text = get_large_text()\n",
    "counts = {chr(x):0 for x in range(65,91)}\n",
    "text = text.upper()\n",
    "for character in text:\n",
    "    if character in counts:\n",
    "        counts[character]+=1\n",
    "\n",
    "letters = list(counts.keys())\n",
    "appearances = list(counts.values())\n",
    "plt.bar(range(len(counts)),appearances,tick_label=letters)\n",
    "\n",
    "plt.show() #shows graph of letter frequencies \n",
    "\n",
    "descending_frequencies = open(\"decsending_frequent_letters.txt\",\"w\")\n",
    "sorted_counts = dict(sorted(counts.items(), key=lambda item: item[1],reverse=True)) #sorts the dictionary by value\n",
    "frequency = [x for x in sorted_counts] #creates an ordered list of the letters in decreasing frequency\n",
    "descending_frequencies.write(\"\".join(frequency))\n",
    "descending_frequencies.close() #writes the most frequent letters in descending order to the file\n",
    "\n"
   ]
  },
  {
   "cell_type": "code",
   "execution_count": 32,
   "id": "be1e8d28",
   "metadata": {},
   "outputs": [],
   "source": [
    "##### CAESAR CYPHER BREAK VIA FREQUENCY ANALYSIS ####\n",
    "\n",
    "def caesar_frequency_break():\n",
    "    \n",
    "    #DONT NEED TO RUN FREQUENCY ANALYSIS EVERY TIME, WRITE TO TEXT FILE\n",
    "    file_name = find_file()\n",
    "    \n",
    "    encrypted_text = open(file_name,\"r\") #opens the encrypted text file to read\n",
    "    cryptic = encrypted_text.read() #sets cryptic to the string value of all the text in encrypted_text.txt\n",
    "    \n",
    "    decrypted_text = open(\"decrypted_text.txt\",\"w\") #opens the decrypted text file to write to  \n",
    "    \n",
    "    frequent_letters = open(\"decsending_frequent_letters.txt\",\"r\")    \n",
    "    frequency_list = list(frequent_letters.read()) #gets the list of the most frequent letters in descending order\n",
    "    \n",
    "  \n",
    "    \n",
    "    \n",
    "    \n",
    "    message_most_frequent = frequency_finder(cryptic)[0] #finds the most frequent letter in the encrypted message\n",
    "    \n",
    "    correctness = False \n",
    "    while correctness == False: #iterates until plaintext is found\n",
    "        for i in range(0,len(frequency_list)):\n",
    "            decrypted_message = []\n",
    "            \n",
    "            shift_value = ord(message_most_frequent) - ord(frequency_list[i]) \n",
    "            #finds the shift value with corresponding letter of frequency list \n",
    "            \n",
    "            for character in cryptic: #iterates each character in the cryptic text\n",
    "                if character.isalpha(): #checks if character is in alphabet\n",
    "\n",
    "                    if character.isupper(): #checks if character is uppercase\n",
    "                        offset = 65 #sets appropriate offset\n",
    "                    else:\n",
    "                        offset = 97\n",
    "\n",
    "                    character_offset = ord(character)-offset #offsets character to be between 0 and 25\n",
    "\n",
    "                    decrypted_message.append(chr((character_offset-shift_value)%26+offset))\n",
    "                    #appends decrypted character to decrypted message list\n",
    "            print(\"\".join(decrypted_message))\n",
    "            print(\"\")\n",
    "            x = input(\"Does this look like plaintext? Press enter if so, type anything else if not: \")\n",
    "            if x == \"\":\n",
    "                correctness = True\n",
    "                print(\"\")\n",
    "                print(\"Plaintext written to decrypted_text.txt\")\n",
    "                break\n",
    "            else:\n",
    "                continue\n",
    "    decrypted_text.write(\"\".join(decrypted_message)) #writes the plaintext to decrypted_text\n",
    "    decrypted_text.close()\n",
    "    encrypted_text.close()\n",
    "    frequent_letters.close() #closes the files\n",
    "    return\n",
    "    \n",
    "    "
   ]
  },
  {
   "cell_type": "code",
   "execution_count": 33,
   "id": "695b1841",
   "metadata": {},
   "outputs": [],
   "source": [
    "#caesar_encrypt()\n",
    "#caesar_frequency_break()"
   ]
  },
  {
   "cell_type": "code",
   "execution_count": 34,
   "id": "00af7289",
   "metadata": {},
   "outputs": [
    {
     "data": {
      "text/plain": [
       "(838080738380868082678873716767,)"
      ]
     },
     "execution_count": 34,
     "metadata": {},
     "output_type": "execute_result"
    }
   ],
   "source": [
    "#### TURN VIGENERE KEY INTO NUMBERS ####\n",
    " ## SPLIT KEY FIRST, RETURN TUPLE OF SPLIT KEY\n",
    "def key_to_tuple():\n",
    "    key_file = open(\"_vigenere_key.txt\",\"r\") #opens the vigenere key file\n",
    "    key = key_file.read() #reads the vigenere key to key\n",
    "\n",
    "    num_of_splits = len(key)//64 #gets the quotient of the key length when dividing by 64 to find out our splits\n",
    "    split_key = []\n",
    "    for i in range(0,num_of_splits+1): #iterates through splits\n",
    "        key_num_list = [] #creates a list for our number key\n",
    "        for character in range(64*i,64*(i+1)): #iterates through all characters of that split\n",
    "            if character == len(key): #makes sure not to go out of the range of the string\n",
    "                break\n",
    "            key_num_list.append(str(ord(key[character])))#appends the string value of the ASCII value of the character\n",
    "\n",
    "        key_num_str = \"\".join(key_num_list) #turns the list into a long string\n",
    "        key_num = int(key_num_str) #turns the string into an integer\n",
    "        split_key.append(key_num)#applies the split key to the big list\n",
    "  \n",
    "    return tuple(split_key)\n",
    "\n",
    "key_to_tuple()\n",
    "# EVERY 2 DIGITS REPRESENTS ONE OF THE LETTERS OF OUR KEY"
   ]
  },
  {
   "cell_type": "code",
   "execution_count": 35,
   "id": "654d7803",
   "metadata": {},
   "outputs": [],
   "source": [
    "#### RSA KEY GENERATOR ####\n",
    "\n",
    "def RSA_key_generator(bitlength=1024): #can take 128 numbers with Bitlength of 1024\n",
    "    \"\"\"This will generate RSA keys. This is a version of the private key.\n",
    "    The output is ((PublicKey), PrivateExp, Factorisation).\n",
    "    The PublicKey can be published, PrivateExp is needed to decrypt.\n",
    "    Factorisation is not needed, but must be kept secret.\"\"\"\n",
    "    ## Generate two large primes.\n",
    "    p = cryptography_functions.random_prime(bitlength)\n",
    "    q = cryptography_functions.random_prime(bitlength)\n",
    "    N = p*q\n",
    "    \n",
    "    ## Next, get phi and use it to get a public and private exponent.\n",
    "    phi = (p-1)*(q-1)\n",
    "    ## Choose encryption exponent e randomly between 1 and p and q.\n",
    "    e = random.randint(1,min(p,q))\n",
    "    ## It must be coprime to phi though. We use rejection sampling again:    \n",
    "    while cryptography_functions.gcd(e,phi) > 1:\n",
    "        e = random.randint(1,min(p,q))\n",
    "    \n",
    "    ## Finally, get d using 'pow'\n",
    "    ## (the extended Euclid's algorithm could do this too).\n",
    "    d = pow(e,-1,phi)\n",
    "    \n",
    "    ## Then return the keys.\n",
    "    return ((N,e),d%phi,{p:1,q:1})"
   ]
  },
  {
   "cell_type": "code",
   "execution_count": 36,
   "id": "5f82bc1e",
   "metadata": {},
   "outputs": [
    {
     "ename": "SyntaxError",
     "evalue": "invalid syntax (3676863737.py, line 29)",
     "output_type": "error",
     "traceback": [
      "\u001b[0;36m  Cell \u001b[0;32mIn[36], line 29\u001b[0;36m\u001b[0m\n\u001b[0;31m    print(cipher)tuple(encrypted_key_list)\u001b[0m\n\u001b[0m                 ^\u001b[0m\n\u001b[0;31mSyntaxError\u001b[0m\u001b[0;31m:\u001b[0m invalid syntax\n"
     ]
    }
   ],
   "source": [
    "def RSA_encrypt(N,e):\n",
    "    encrypted_key_list=[]\n",
    "    vigi_key_list = list(key_to_tuple())\n",
    "    for element in vigi_key_list:\n",
    "        i=pow(element,e,N)\n",
    "        encrypted_key_list.append(i)\n",
    "    \"\"\"Encrypt an integer 'message' using RSA with public key (N,e).\"\"\"\n",
    "    return tuple(encrypted_key_list)\n",
    "\n",
    "public_key,d,factors = RSA_key_generator()\n",
    "\n",
    "cipher = RSA_encrypt(public_key[0],public_key[1])\n",
    "print(cipher)\n",
    "\n",
    "\n",
    "#attempt at changing it\n",
    "def RSA_encrypt(N,e,KEY_plural):\n",
    "    encrypted_key_list=[]\n",
    "    _key_list = list(KEY_plural)\n",
    "    for element in vigi_key_list:\n",
    "        i=pow(element,e,N)\n",
    "        encrypted_key_list.append(i)\n",
    "    \"\"\"Encrypt an integer 'message' using RSA with public key (N,e).\"\"\"\n",
    "    return tuple(encrypted_key_list)\n",
    "\n",
    "public_key,d,factors = RSA_key_generator()\n",
    "\n",
    "cipher = RSA_encrypt(public_key[0],public_key[1], key_to_tuple())\n",
    "print(cipher)tuple(encrypted_key_list)\n",
    "\n",
    "public_key,d,factors = RSA_key_generator()\n",
    "\n",
    "cipher = RSA_encrypt(public_key[0],public_key[1])\n",
    "print(cipher)\n"
   ]
  },
  {
   "cell_type": "code",
   "execution_count": 37,
   "id": "c13ef2ad",
   "metadata": {},
   "outputs": [
    {
     "ename": "NameError",
     "evalue": "name 'cipher' is not defined",
     "output_type": "error",
     "traceback": [
      "\u001b[0;31m---------------------------------------------------------------------------\u001b[0m",
      "\u001b[0;31mNameError\u001b[0m                                 Traceback (most recent call last)",
      "Cell \u001b[0;32mIn[37], line 10\u001b[0m\n\u001b[1;32m      7\u001b[0m     \u001b[38;5;124;03m\"\"\"Decrypt an integer message using RSA with public key (N,e) and private key (d, fact).\"\"\"\u001b[39;00m\n\u001b[1;32m      8\u001b[0m     \u001b[38;5;28;01mreturn\u001b[39;00m \u001b[38;5;124m\"\u001b[39m\u001b[38;5;124m\"\u001b[39m\u001b[38;5;241m.\u001b[39mjoin(complete_key)\n\u001b[0;32m---> 10\u001b[0m received_int \u001b[38;5;241m=\u001b[39m RSA_decrypt(\u001b[43mcipher\u001b[49m,public_key[\u001b[38;5;241m0\u001b[39m],d)\n\u001b[1;32m     12\u001b[0m \u001b[38;5;28mprint\u001b[39m(received_int)\n",
      "\u001b[0;31mNameError\u001b[0m: name 'cipher' is not defined"
     ]
    }
   ],
   "source": [
    "def RSA_decrypt(encrypted_key,N,d):\n",
    "    complete_key=[]\n",
    "    decryption_list=list(encrypted_key)\n",
    "    for element in decryption_list:\n",
    "        j=pow(element,d,N)\n",
    "        complete_key.append(str(j))\n",
    "    \"\"\"Decrypt an integer message using RSA with public key (N,e) and private key (d, fact).\"\"\"\n",
    "    return \"\".join(complete_key)\n",
    "\n",
    "received_int = RSA_decrypt(cipher,public_key[0],d)\n",
    "\n",
    "print(received_int)"
   ]
  },
  {
   "cell_type": "code",
   "execution_count": 38,
   "id": "8d1a4ab6",
   "metadata": {},
   "outputs": [
    {
     "name": "stdout",
     "output_type": "stream",
     "text": [
      "256\n"
     ]
    }
   ],
   "source": [
    "print(len(\"8678868975786684757371837574908171717884807067706983788273708868826974767772666782677988658883838688676675696866747472838985868370657690667386787588827288708780667774898573727980806566908868878768727981807589887875757090697368737176658670788785678190906586\"))"
   ]
  },
  {
   "cell_type": "code",
   "execution_count": 21,
   "id": "36162682",
   "metadata": {},
   "outputs": [
    {
     "name": "stdout",
     "output_type": "stream",
     "text": [
      "128\n"
     ]
    }
   ],
   "source": [
    "\n",
    "print(len(\"86788689757866847573718375749081717178848070677069837882737088688269747677726667826779886588838386886766756968667474728389858683\"))"
   ]
  },
  {
   "cell_type": "code",
   "execution_count": 39,
   "id": "9197939b",
   "metadata": {},
   "outputs": [
    {
     "name": "stdout",
     "output_type": "stream",
     "text": [
      "{'a': ['iu', 'ab', 'bh', 'eu', 'en', 'ec', 'li', 'rn', 'wn', 'bt', 'ui', 'rf', 'xp', 'gx', 'xs', 'xy', 'ym', 'gk', 'py', 'wz', 'mf', 'wd', 'ju', 'jx', 'da', 'ib', 'gs', 'ly', 'ax', 'ea', 'cs', 'iy', 'je', 'qu', 'xm', 'tw', 'ip', 'cf', 'ri', 'yk', 'wi', 'pk', 'in', 'wm', 'jd', 'qj', 'an', 'pv', 'ht', 'sb', 'cw', 'px'], 'b': ['tz', 'tj', 'ub', 'mg', 'pr', 'fm', 'ut', 'jw', 'yr', 'at'], 'c': ['no', 'kx', 'up', 'zk', 'gb', 'rt', 'lc', 'es', 'qh', 'yp', 'my', 'el', 'dy', 'pq', 'bq'], 'd': ['hb', 'tf', 'rx', 'vx', 'pu', 'ud', 'go', 'wh', 'yi', 'lh', 'ta', 'mn', 'wu', 'sn', 'ch', 'nu', 'rd', 'fl', 'wv', 'qy', 'vq', 'fn', 'ei', 'uy', 'ts', 'zj', 'qr', 'ke'], 'e': ['nh', 'vs', 'ay', 'se', 'ti', 'xq', 'jg', 'qx', 'pl', 'im', 'sz', 'kd', 'ld', 'kt', 'zx', 'qf', 'pg', 'oa', 'wp', 'nf', 'ls', 'nk', 'zl', 'np', 'th', 'gp', 'uz', 'gd', 'iw', 'ok', 'xn', 'id', 'jf', 'wj', 'fe', 'zo', 'uq', 'bs', 've', 'jb', 'ao', 'nm', 'po', 'pw', 'wq', 'iq', 'ai', 'ci', 'pf', 'oj', 'ep', 'pe', 'rw', 'fy', 'jq', 'lm', 'ry', 'sm', 'mq', 'bx', 'zu', 'gl', 'we', 'pj', 'jz', 'op', 'um', 'er', 'mp', 'cb', 'zm', 'jm', 'lz', 'ns', 'qn', 'xk', 'mi', 'ou', 'to', 'sp'], 'f': ['dl', 'iv', 'kb', 'oe', 'lr', 'xz', 'tr', 'fd', 'nd', 'qb', 'cz', 'fs', 'ih', 'kn'], 'g': ['em', 'su', 'pm', 'rc', 'ow', 'yw', 'wl', 'vk', 'dt', 'av', 'yu', 'hg', 'hf', 'hx'], 'h': ['zv', 'ob', 'lw', 'cp', 'ge', 'kq', 'ew', 'qz', 'kh', 'vu', 'eg', 'wf', 'fo', 'yh', 'xo', 'bf', 'as', 'be', 'io', 'uj', 'un', 'ru', 'gw', 'zh', 'ql', 'ce', 'oi', 'xv', 'ml', 'xf', 'yg', 'lg', 'kl', 'lb', 'ox', 'ot', 'bk', 'zs', 'gn', 'tx', 'tv', 'hr'], 'i': ['hv', 'oy', 'bo', 'dv', 'hs', 'hn', 'fg', 'ze', 'qt', 'nt', 'ij', 'hi', 'ic', 'oh', 'rv', 'gr', 'sx', 'fj', 'ah', 'nz', 'dw', 'di', 'qw', 'rb', 'uh', 'fh', 'ph', 'lt', 'sl', 'mr', 'ys', 'vn', 'cd', 'ye', 'zt', 'pa', 'qp', 'cn', 'qm', 'zf', 'vc', 'ya', 'ja', 'lf', 'nx'], 'j': ['bd'], 'k': ['dq', 'ha', 'fc', 'tp', 'ul', 'qo'], 'l': ['kv', 'bc', 'vy', 'az', 'pn', 'ed', 'gh', 'fv', 'hp', 'pi', 'zb', 'sa', 'ug', 'bz', 'eb', 'wx', 'td', 'hl', 'gc', 'oc', 'jn', 'il', 'ex', 'rj', 'zq', 'te', 'dx'], 'm': ['tm', 'tg', 'db', 'cx', 'co', 'cq', 'ur', 'if', 'fq', 'mz', 'ny', 'kg', 'ki', 'kw', 'dm', 'pd', 'qv'], 'n': ['kf', 'hk', 'wb', 'hu', 'df', 'nb', 'tu', 'sh', 'zi', 'sq', 'mt', 'hd', 'dr', 'km', 'yv', 'bn', 'bv', 'sj', 'ua', 'is', 'jv', 'sw', 'za', 'jy', 'vd', 'uo', 'gt', 'wr', 'dh', 'om', 'zp', 'bu', 'ir', 'aq', 'yd', 'yn', 'jt', 'nc', 'jo', 'sg', 'jh', 'ap', 'mu', 'ek', 'ma'], 'o': ['rs', 'sf', 'lx', 'us', 'dg', 'eq', 'fz', 'le', 'md', 'gj', 'ku', 'qc', 'vb', 'yo', 'zy', 'af', 'zw', 'jl', 'hq', 'pt', 'ps', 'bm', 'fk', 'ho', 'cg', 'ra', 'ef', 'jp', 'ey', 'ix', 'xi', 'ig', 'rl', 'by', 'vw', 'kc', 'lk', 'ol', 'mx', 'ne', 'ms', 'vr', 'eo', 'yc', 'ue', 'fw', 'qg', 'wc', 'ik'], 'p': ['bw', 'ga', 'ev', 'yx', 'vj', 'pb', 'he', 'xw', 'ky', 'rq', 'yb'], 'q': ['mk'], 'r': ['ft', 'tl', 'tc', 'zd', 'gi', 'qa', 'xa', 'du', 'hc', 'sr', 'cu', 'wo', 'qi', 'ng', 'of', 'yq', 'hy', 'mb', 'cm', 'kj', 'uk', 'dp', 'qs', 'rh', 'ag', 'mj', 'rp', 'ty', 'nr', 'ws', 'si', 'bi', 'mo', 'cl', 're', 'ux'], 's': ['hj', 'cy', 'uv', 'ar', 'ro', 'al', 'fb', 'gm', 'zg', 'qk', 'xg', 'jc', 'fp', 'sc', 'am', 'yj', 'kz', 'ln', 'nq', 'nl', 'fa', 'jr', 'gf', 'zn', 'yt', 'so', 'rk', 'va', 'vh', 'xj', 'od', 'do', 'ca', 'ka', 'vg', 'gy', 'xu', 'wk', 'mw', 'ck', 'zr', 'lv'], 't': ['fx', 'wa', 'sv', 'ks', 'fi', 'ov', 'jk', 'gv', 'cv', 'pc', 'nv', 'cr', 'bp', 'rz', 'lp', 'hm', 'nw', 'lj', 'zc', 'xr', 'ak', 'gq', 'ji', 'dc', 'bg', 'lu', 'hw', 'on', 'uf', 'kr', 'br', 'uc', 'sd', 'sy', 'aj', 'ia', 'xd', 'ct', 'ad', 'xt', 'ba', 'vm', 'eh', 'vl', 'me', 'dj', 'tn', 'oz', 'bl', 'xe', 'ae', 'iz', 'tb', 'yl', 'os', 'ej', 'la', 'gu'], 'u': ['bj', 'vt', 'vz', 'og', 'vp', 'yz', 'tq', 'yf', 'cj', 'dz', 'vf', 'uw', 'na', 'rg', 'ez', 'sk', 'st', 'pz', 'ds'], 'v': ['dk', 'qe', 'vi', 'xc', 'ko', 'et'], 'w': ['wg', 'oq', 'kp', 'vo', 'wt', 'de', 'lo', 'mc', 'it', 'au', 'fr', 'aw', 'mh', 'fu', 'xl', 'js'], 'x': ['mv'], 'y': ['xb', 'hz', 'ni', 'xh', 'ie', 'rm', 'lq', 'dn', 'nj', 'wy', 'ac', 'gz', 'qd'], 'z': ['or']}\n"
     ]
    }
   ],
   "source": [
    "from random import randint\n",
    "from random import sample\n",
    "import string\n",
    "from itertools import permutations\n",
    "\n",
    "ALPH_1 = string.ascii_lowercase\n",
    "\n",
    "# round? = The return value is an integer\n",
    "\n",
    "# create bigrams:\n",
    "\n",
    "\n",
    "\n",
    "fr = {'a': 0.0813382530968154, 'b': 0.015772428180238454, 'c': 0.02307211235643865, 'd': 0.04378202350586753, 'e': 0.12486207836182597, 'f': 0.022079076561585642, 'g': 0.020784064969467386, 'h': 0.06501369165412156, 'i': 0.06853376455715428, 'j': 0.00125078732595071, 'k': 0.00849105910416825, 'l': 0.04209882113294529, 'm': 0.026337113986929273, 'n': 0.06876203324414029, 'o': 0.0749226075342068, 'p': 0.01639692842369527, 'q': 0.0012807168798216735, 'r': 0.05524995644579847, 's': 0.06410999781112219, 't': 0.09143076668795984, 'u': 0.028544753617232275, 'v': 0.00937018391040789, 'w': 0.024949633474642522, 'x': 0.0013084128848962963, 'y': 0.019657016246833945, 'z': 0.0006017180457341452}\n",
    "\n",
    "#all_bigrams = []\n",
    " #   for c in ALPH_1:\n",
    "  #      for d in ALPH_1:\n",
    "   #         all_bigrams.append(c + d)\n",
    "    \n",
    "encode_dict = dict()\n",
    "\n",
    "def bigrams(fr):\n",
    "\n",
    "    global encode_dict\n",
    "    all_bigrams = [\"\".join(pair) for pair in permutations(ALPH_1, 2)]\n",
    "  #  su = []\n",
    "    \n",
    "    for key in fr:\n",
    "        \n",
    "        freq = fr[key]\n",
    "        \n",
    "        bi_quantity = round(650*freq)\n",
    "        if bi_quantity == 0:\n",
    "            bi_quantity = 1\n",
    "        if bi_quantity > 50:\n",
    "            bi_quantity -= 1\n",
    "      \n",
    "        storage = sample(all_bigrams, bi_quantity)\n",
    "        \n",
    "        all_bigrams = [bigram for bigram in all_bigrams if bigram not in storage]\n",
    "        encode_dict[key]=storage\n",
    "       \n",
    "    return encode_dict\n",
    "\n",
    "print (bigrams(fr))"
   ]
  },
  {
   "cell_type": "code",
   "execution_count": 40,
   "id": "c5a032ca",
   "metadata": {},
   "outputs": [
    {
     "name": "stdout",
     "output_type": "stream",
     "text": [
      "838080738380868082678873716767 10110100101110101011000010110001001100010011010000110010101110101011001010110111001100101011000110110110001101001011100100110111001110111011011100110001001110100011101010110100101110010011001100111100001110000011001110111100001111000011100110111100001111001011110010110110101100111011010110111000001111001011101110111101001101101011001100111011101100100011010100111010101101010011110000110010001100001011010010110001001100111011100110110110001111001011000010111100001100101011000010110001101110011011010010111100101101010011001010111000101110101011110000110110101110100011101110110100101110000011000110110011001110010011010010111100101101011011101110110100101110000011010110110100101101110011101110110110101101010011001000111000101101010011000010110111001110000011101100110100001110100011100110110001001100011011101110111000001111000 10111010001111010011101000110101001110101011000100110110101100111011100000111001001100110011011010111010101110100011010100111011101111001011100100110000101110100 1011011100110111101101011011110000111010101110000011110100110101101100111011000100111001001110100011011000110001101100101011100110111000101101000011110010111000001101101011110010110010101101100011001000111100101110000011100010110001001110001 10110100001100010011101000110011001110010011110000111011001111000011100000111010101110101011001000110011101101111011101110110100001111001011010010110110001101000011101000110000101101101011011100111011101110101011100110110111001100011011010000110111001110101011100100110010001100110011011000111011101110110011100010111100101110110011100010110011001101110011001010110100101110101011110010111010001110011011110100110101001110001011100100110101101100101 101101110011010000111011001110011011000010111100101110011011001010111010001101001011110000111000101101010011001110111000101111000011100000110110001101001011011010111001101111010011010110110010001101100011001000110101101110100011110100111100001110001011001100111000001100111011011110110000101110111011100000110111001100110011011000111001101101110011010110111101001101100011011100111000001110100011010000110011101110000011101010111101001100111011001000110100101110111011011110110101101111000011011100110100101100100011010100110011001110111011010100110011001100101011110100110111101110101011100010110001001110011011101100110010101101010011000100110000101101111011011100110110101110000011011110111000001110111011101110111000101101001011100010110000101101001011000110110100101110000011001100110111101101010011001010111000001110000011001010111001001110111011001100111100101101010011100010110110001101101011100100111100101110011011011010110110101110001011000100111100001111010011101010110011101101100011101110110010101110000011010100110101001111010011011110111000001110101011011010110010101110010011011010111000001100011011000100111101001101101011010100110110101101100011110100110111001110011011100010110111001111000011010110110110101101001011011110111010101110100011011110111001101110000 101100100011011000110100101110110011010110110001001101111011001010110110001110010011110000111101001110100011100100110011001100100011011100110010001110001011000100110001101111010011001100111001101101001011010000110101101101110 101100101011011010111001101110101011100000110110101110010011000110110111101110111011110010111011101110111011011000111011001101011011001000111010001100001011101100111100101110101011010000110011101101000011001100110100001111000 1011110100111011001101111011000100110110001110111011000110111000001100111011001010110101101110001011001010111011101110001011110100110101101101000011101100111010101100101011001110111011101100110011001100110111101111001011010000111100001101111011000100110011001100001011100110110001001100101011010010110111101110101011010100111010101101110011100100111010101100111011101110111101001101000011100010110110001100011011001010110111101101001011110000111011001101101011011000111100001100110011110010110011101101100011001110110101101101100011011000110001001101111011110000110111101110100011000100110101101111010011100110110011101101110011101000111100001110100011101100110100001110010 1011010000111011001101111011110010110001001101111011001000111011001101000011100110110100001101110011001100110011101111010011001010111000101110100011011100111010001101001011010100110100001101001011010010110001101101111011010000111001001110110011001110111001001110011011110000110011001101010011000010110100001101110011110100110010001110111011001000110100101110001011101110111001001100010011101010110100001100110011010000111000001101000011011000111010001110011011011000110110101110010011110010111001101110110011011100110001101100100011110010110010101111010011101000111000001100001011100010111000001100011011011100111000101101101011110100110011001110110011000110111100101100001011010100110000101101100011001100110111001111000 10110001001100100 1011001000111000101101000011000010110011001100011011101000111000001110101011011000111000101101111 1011010110111011001100010011000110111011001111001011000010111101001110000011011100110010101100100011001110110100001100110011101100110100001110000011100000110100101111010011000100111001101100001011101010110011101100010011110100110010101100010011101110111100001110100011001000110100001101100011001110110001101101111011000110110101001101110011010010110110001100101011110000111001001101010011110100111000101110100011001010110010001111000 101110100011011010111010001100111011001000110001001100011011110000110001101101111011000110111000101110101011100100110100101100110011001100111000101101101011110100110111001111001011010110110011101101011011010010110101101110111011001000110110101110000011001000111000101110110 1011010110110011001101000011010110111011101100010011010000111010101100100011001100110111001100010011101000111010101110011011010000111101001101001011100110111000101101101011101000110100001100100011001000111001001101011011011010111100101110110011000100110111001100010011101100111001101101010011101010110000101101001011100110110101001110110011100110111011101111010011000010110101001111001011101100110010001110101011011110110011101110100011101110111001001100100011010000110111101101101011110100111000001100010011101010110100101110010011000010111000101111001011001000111100101101110011010100111010001101110011000110110101001101111011100110110011101101010011010000110000101110000011011010111010101100101011010110110110101100001 10111001001110011011100110110011001101100011110000111010101110011011001000110011101100101011100010110011001111010011011000110010101101101011001000110011101101010011010110111010101110001011000110111011001100010011110010110111101111010011110010110000101100110011110100111011101101010011011000110100001110001011100000111010001110000011100110110001001101101011001100110101101101000011011110110001101100111011100100110000101100101011001100110101001110000011001010111100101101001011110000111100001101001011010010110011101110010011011000110001001111001011101100111011101101011011000110110110001101011011011110110110001101101011110000110111001100101011011010111001101110110011100100110010101101111011110010110001101110101011001010110011001110111011100010110011101110111011000110110100101101011 101100010011101110110011101100001011001010111011001111001011110000111011001101010011100000110001001101000011001010111100001110111011010110111100101110010011100010111100101100010 10110110101101011 1011001100111010001110100011011000111010001100011011110100110010001100111011010010111000101100001011110000110000101100100011101010110100001100011011100110111001001100011011101010111011101101111011100010110100101101110011001110110111101100110011110010111000101101000011110010110110101100010011000110110110101101011011010100111010101101011011001000111000001110001011100110111001001101000011000010110011101101101011010100111001001110000011101000111100101101110011100100111011101110011011100110110100101100010011010010110110101101111011000110110110001110010011001010111010101111000 1011010000110101001100011011110010111010101110110011000010111001001110010011011110110000101101100011001100110001001100111011011010111101001100111011100010110101101111000011001110110101001100011011001100111000001110011011000110110000101101101011110010110101001101011011110100110110001101110011011100111000101101110011011000110011001100001011010100111001001100111011001100111101001101110011110010111010001110011011011110111001001101011011101100110000101110110011010000111100001101010011011110110010001100100011011110110001101100001011010110110000101110110011001110110011101111001011110000111010101110111011010110110110101110111011000110110101101111010011100100110110001110110 10110011001111000011101110110000101110011011101100110101101110011011001100110100101101111011101100110101001101011011001110111011001100011011101100111000001100011011011100111011001100011011100100110001001110000011100100111101001101100011100000110100001101101011011100111011101101100011010100111101001100011011110000111001001100001011010110110011101110001011010100110100101100100011000110110001001100111011011000111010101101000011101110110111101101110011101010110011001101011011100100110001001110010011101010110001101110011011001000111001101111001011000010110101001101001011000010111100001100100011000110111010001100001011001000111100001110100011000100110000101110110011011010110010101101000011101100110110001101101011001010110010001101010011101000110111001101111011110100110001001101100011110000110010101100001011001010110100101111010011101000110001001111001011011000110111101110011011001010110101001101100011000010110011101110101 10110001001101010011101100111010001110110011110100110111101100111011101100111000001111001011110100111010001110001011110010110011001100011011010100110010001111010011101100110011001110101011101110110111001100001011100100110011101100101011110100111001101101011011100110111010001110000011110100110010001110011 1011001000110101101110001011001010111011001101001011110000110001101101011011011110110010101110100 10111011101100111011011110111000101101011011100000111011001101111011101110111010001100100011001010110110001101111011011010110001101101001011101000110000101110101011001100111001001100001011101110110110101101000011001100111010101111000011011000110101001110011 10110110101110110 10111100001100010011010000111101001101110011010010111100001101000011010010110010101110010011011010110110001110001011001000110111001101110011010100111011101111001011000010110001101100111011110100111000101100100 10110111101110010\n"
     ]
    }
   ],
   "source": [
    "# second part of question 4 below\n",
    "\n",
    "import string\n",
    "ALPH_1 = string.ascii_lowercase\n",
    "\n",
    "def char_to_byte(char): \n",
    "    \"\"\"\n",
    "    Returns the 8 bit binary representation (padded with \n",
    "    leading zeros when necessary) of ord(char), i.e. of \n",
    "    the order of the input character char. \n",
    "    \"\"\"\n",
    "    byte_string = bin(ord(char))[2:]            # The order of char as a binary string \n",
    "    num_zeros = 8 - len(byte_string)            # The number of zeros needed to pad out byte_string\n",
    "    byte_string = '0' * num_zeros + byte_string # Now pad out byte_string with num_zeros many zeros\n",
    "                                                # to obtain the 8-bit binary representation\n",
    "    return byte_string  \n",
    "\n",
    "\n",
    "#global encode_dict\n",
    "# replace this dectionary wiht the dictionary we've made of 2grams\n",
    "\n",
    "def int_form(key1):\n",
    "    two_grams = encode_dict[key1] \n",
    "    y = \"\".join(two_grams)\n",
    "    list = []\n",
    "    list.append(' 1')\n",
    "    binary = [char_to_byte(char) for char in y]\n",
    "    biny = \"\".join(binary)\n",
    "    list.append(biny)\n",
    "    return \"\".join(list)\n",
    "\n",
    "key = []\n",
    "Vig = str(key_to_tuple()[0])\n",
    "key.append(Vig)\n",
    "for key2 in ALPH_1:\n",
    "    item = int_form(key2)\n",
    "    key.append(item)\n",
    "\n",
    "key_final = \"\".join(key)\n",
    "    \n",
    "print(key_final)\n"
   ]
  },
  {
   "cell_type": "code",
   "execution_count": 41,
   "id": "4f787d28",
   "metadata": {
    "scrolled": false
   },
   "outputs": [
    {
     "name": "stdout",
     "output_type": "stream",
     "text": [
      "['838080738380868082678873716767 10110100101110101011000010110001001100010011010000110010101110101011001010110111001100101011000110110110001101001011100100110111001110111011011100110001001110100011101010110100101110010011001100111100001110000011001110111100001111', '000011100110111100001111001011110010110110101100111011010110111000001111001011101110111101001101101011001100111011101100100011010100111010101101010011110000110010001100001011010010110001001100111011100110110110001111001011000010111100001100101011000010110001101', '110011011010010111100101101010011001010111000101110101011110000110110101110100011101110110100101110000011000110110011001110010011010010111100101101011011101110110100101110000011010110110100101101110011101110110110101101010011001000111000101101010011000010110111', '001110000011101100110100001110100011100110110001001100011011101110111000001111000 10111010001111010011101000110101001110101011000100110110101100111011100000111001001100110011011010111010101110100011010100111011101111001011100100110000101110100 10110111001101111', '01101011011110000111010101110000011110100110101101100111011000100111001001110100011011000110001101100101011100110111000101101000011110010111000001101101011110010110010101101100011001000111100101110000011100010110001001110001 101101000011000100111010001100110011', '100100111100001110110011110000111000001110101011101010110010001100111011011110111011101101000011110010110100101101100011010000111010001100001011011010110111001110111011101010111001101101110011000110110100001101110011101010111001001100100011001100110110001110111', '01110110011100010111100101110110011100010110011001101110011001010110100101110101011110010111010001110011011110100110101001110001011100100110101101100101 101101110011010000111011001110011011000010111100101110011011001010111010001101001011110000111000101101010011', '001110111000101111000011100000110110001101001011011010111001101111010011010110110010001101100011001000110101101110100011110100111100001110001011001100111000001100111011011110110000101110111011100000110111001100110011011000111001101101110011010110111101001101100', '011011100111000001110100011010000110011101110000011101010111101001100111011001000110100101110111011011110110101101111000011011100110100101100100011010100110011001110111011010100110011001100101011110100110111101110101011100010110001001110011011101100110010101101', '010011000100110000101101111011011100110110101110000011011110111000001110111011101110111000101101001011100010110000101101001011000110110100101110000011001100110111101101010011001010111000001110000011001010111001001110111011001100111100101101010011100010110110001', '101101011100100111100101110011011011010110110101110001011000100111100001111010011101010110011101101100011101110110010101110000011010100110101001111010011011110111000001110101011011010110010101110010011011010111000001100011011000100111101001101101011010100110110', '101101100011110100110111001110011011100010110111001111000011010110110110101101001011011110111010101110100011011110111001101110000 10110010001101100011010010111011001101011011000100110111101100101011011000111001001111000011110100111010001110010011001100110010001', '1011100110010001110001011000100110001101111010011001100111001101101001011010000110101101101110 1011001010110110101110011011101010111000001101101011100100110001101101111011101110111100101110111011101110110110001110110011010110110010001110100011000010111011001111', '00101110101011010000110011101101000011001100110100001111000 101111010011101100110111101100010011011000111011101100011011100000110011101100101011010110111000101100101011101110111000101111010011010110110100001110110011101010110010101100111011101110110011001100110', '011011110111100101101000011110000110111101100010011001100110000101110011011000100110010101101001011011110111010101101010011101010110111001110010011101010110011101110111011110100110100001110001011011000110001101100101011011110110100101111000011101100110110101101', '1000111100001100110011110010110011101101100011001110110101101101100011011000110001001101111011110000110111101110100011000100110101101111010011100110110011101101110011101000111100001110100011101100110100001110010 1011010000111011001101111011110010110001001101111', '011001000111011001101000011100110110100001101110011001100110011101111010011001010111000101110100011011100111010001101001011010100110100001101001011010010110001101101111011010000111001001110110011001110111001001110011011110000110011001101010011000010110100001101', '110011110100110010001110111011001000110100101110001011101110111001001100010011101010110100001100110011010000111000001101000011011000111010001110011011011000110110101110010011110010111001101110110011011100110001101100100011110010110010101111010011101000111000001', '100001011100010111000001100011011011100111000101101101011110100110011001110110011000110111100101100001011010100110000101101100011001100110111001111000 10110001001100100 10110010001110001011010000110000101100110011000110111010001110000011101010110110001110001011', '01111 101101011011101100110001001100011011101100111100101100001011110100111000001101110011001010110010001100111011010000110011001110110011010000111000001110000011010010111101001100010011100110110000101110101011001110110001001111010011001010110001001110111011110', '0001110100011001000110100001101100011001110110001101101111011000110110101001101110011010010110110001100101011110000111001001101010011110100111000101110100011001010110010001111000 1011101000110110101110100011001110110010001100010011000110111100001100011011011110', '11000110111000101110101011100100110100101100110011001100111000101101101011110100110111001111001011010110110011101101011011010010110101101110111011001000110110101110000011001000111000101110110 101101011011001100110100001101011011101110110001001101000011101010110', '010001100110011011100110001001110100011101010111001101101000011110100110100101110011011100010110110101110100011010000110010001100100011100100110101101101101011110010111011001100010011011100110001001110110011100110110101001110101011000010110100101110011011010100', '111011001110011011101110111101001100001011010100111100101110110011001000111010101101111011001110111010001110111011100100110010001101000011011110110110101111010011100000110001001110101011010010111001001100001011100010111100101100100011110010110111001101010011101', '0001101110011000110110101001101111011100110110011101101010011010000110000101110000011011010111010101100101011010110110110101100001 1011100100111001101110011011001100110110001111000011101010111001101100100011001110110010101110001011001100111101001101100011001010', '110110101100100011001110110101001101011011101010111000101100011011101100110001001111001011011110111101001111001011000010110011001111010011101110110101001101100011010000111000101110000011101000111000001110011011000100110110101100110011010110110100001101111011000', '110110011101110010011000010110010101100110011010100111000001100101011110010110100101111000011110000110100101101001011001110111001001101100011000100111100101110110011101110110101101100011011011000110101101101111011011000110110101111000011011100110010101101101011', '1001101110110011100100110010101101111011110010110001101110101011001010110011001110111011100010110011101110111011000110110100101101011 1011000100111011101100111011000010110010101110110011110010111100001110110011010100111000001100010011010000110010101111000011101', '11011010110111100101110010011100010111100101100010 10110110101101011 101100110011101000111010001101100011101000110001101111010011001000110011101101001011100010110000101111000011000010110010001110101011010000110001101110011011100100110001101110101011101110110111', '101110001011010010110111001100111011011110110011001111001011100010110100001111001011011010110001001100011011011010110101101101010011101010110101101100100011100000111000101110011011100100110100001100001011001110110110101101010011100100111000001110100011110010110', '1110011100100111011101110011011100110110100101100010011010010110110101101111011000110110110001110010011001010111010101111000 1011010000110101001100011011110010111010101110110011000010111001001110010011011110110000101101100011001100110001001100111011011010111101', '001100111011100010110101101111000011001110110101001100011011001100111000001110011011000110110000101101101011110010110101001101011011110100110110001101110011011100111000101101110011011000110011001100001011010100111001001100111011001100111101001101110011110010111', '010001110011011011110111001001101011011101100110000101110110011010000111100001101010011011110110010001100100011011110110001101100001011010110110000101110110011001110110011101111001011110000111010101110111011010110110110101110111011000110110101101111010011100100', '110110001110110 10110011001111000011101110110000101110011011101100110101101110011011001100110100101101111011101100110101001101011011001110111011001100011011101100111000001100011011011100111011001100011011100100110001001110000011100100111101001101100011100000110', '100001101101011011100111011101101100011010100111101001100011011110000111001001100001011010110110011101110001011010100110100101100100011000110110001001100111011011000111010101101000011101110110111101101110011101010110011001101011011100100110001001110010011101010', '110001101110011011001000111001101111001011000010110101001101001011000010111100001100100011000110111010001100001011001000111100001110100011000100110000101110110011011010110010101101000011101100110110001101101011001010110010001101010011101000110111001101111011110', '100110001001101100011110000110010101100001011001010110100101111010011101000110001001111001011011000110111101110011011001010110101001101100011000010110011101110101 10110001001101010011101100111010001110110011110100110111101100111011101100111000001111001011110100', '111010001110001011110010110011001100011011010100110010001111010011101100110011001110101011101110110111001100001011100100110011101100101011110100111001101101011011100110111010001110000011110100110010001110011 10110010001101011011100010110010101110110011010010111', '10000110001101101011011011110110010101110100 101110111011001110110111101110001011010110111000001110110011011110111011101110100011001000110010101101100011011110110110101100011011010010111010001100001011101010110011001110010011000010111011101101101011010000110011', '00111010101111000011011000110101001110011 10110110101110110 10111100001100010011010000111101001101110011010010111100001101000011010010110010101110010011011010110110001110001011001000110111001101110011010100111011101111001011000010110001101100111011110100111000101100100 10110111101110010']\n"
     ]
    }
   ],
   "source": [
    "def prep_for_RSA(string_input,segment_len):\n",
    "    string= [string_input[i:i+segment_len]for i in range(0,len(string_input), segment_len)]\n",
    "    if len(string) == 40:\n",
    "        return string\n",
    "    else:\n",
    "        last_two = [string[39], string[40]]\n",
    "        string.remove(string[40])\n",
    "        string[39] = \"\".join(last_two)\n",
    "        return string\n",
    "    \n",
    "eights = prep_for_RSA(key_final, len(key_final)//40)\n",
    "print(eights)\n",
    "#len(eights)"
   ]
  },
  {
   "cell_type": "code",
   "execution_count": 42,
   "id": "235a9a24",
   "metadata": {},
   "outputs": [
    {
     "ename": "SyntaxError",
     "evalue": "invalid syntax (3843624939.py, line 1)",
     "output_type": "error",
     "traceback": [
      "\u001b[0;36m  Cell \u001b[0;32mIn[42], line 1\u001b[0;36m\u001b[0m\n\u001b[0;31m    we need to rsa encrypt all these integers and send them in a list called the public key -> ben now\u001b[0m\n\u001b[0m       ^\u001b[0m\n\u001b[0;31mSyntaxError\u001b[0m\u001b[0;31m:\u001b[0m invalid syntax\n"
     ]
    }
   ],
   "source": [
    " we need to rsa encrypt all these integers and send them in a list called the public key -> ben now\n",
    "    we also need to send the message which is encrypted wiht the 2grams and vig\n",
    "    and send it"
   ]
  },
  {
   "cell_type": "code",
   "execution_count": 43,
   "id": "0699429f",
   "metadata": {
    "scrolled": true
   },
   "outputs": [
    {
     "name": "stdout",
     "output_type": "stream",
     "text": [
      "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\n"
     ]
    }
   ],
   "source": [
    "import random\n",
    "import string\n",
    "ALPH_1 = string.ascii_lowercase\n",
    "\n",
    "message_file = open(\"message_treasure_island.txt\", \"r\")\n",
    "message = message_file.read()\n",
    "\n",
    "def bigram_message(message):\n",
    "    bigrams = []\n",
    "    for letter in message:\n",
    "        if letter in ALPH_1:\n",
    "            x = encode_dict[letter][random.randint(0, len(encode_dict[letter])-1)]\n",
    "            bigrams.append(x)\n",
    "    message = \"\".join(bigrams)\n",
    "    return message\n",
    "\n",
    "print(bigram_message(message))"
   ]
  },
  {
   "cell_type": "code",
   "execution_count": null,
   "id": "7406f5d9",
   "metadata": {},
   "outputs": [],
   "source": [
    "WHERE WE GOT TO\n",
    "\n",
    "\n",
    "we created the bigrams of two letters and stored them in a dictionary\n",
    "then we used the dictionary to encode all the bigrams of each letter in through binary and \n",
    "  store it in a string with the vigenere key, splitting up each part with ''.\n",
    "then we split up the strng into 40 smaller strngs to mkae it easier for encryption.\n",
    "    we wanted to then rsa encrypt this to be our public key that we send to alice but we couldn't work the ' '\n",
    "for encoding the message, we turned it into bigrams and joined it together to be one long string(call above)\n",
    "we want to vifenere encrypt this but the vigenere encrypt function didn't work\n",
    "\n",
    "we will send to alice the rsa encoded key with vigenere key and bigrams (in binary), \n",
    "  and the message encoded wiht both bigrams and the vigenere cipher.\n",
    "    \n",
    "    \n",
    "we also need to be able to decrypt the message and the key ...\n",
    "\n",
    "\n",
    "\n",
    "plan by end of thursday, meet thrusday evening\n",
    "ask charles any remaining questions friday morning\n",
    "\n",
    "QUESTION 1 AND 2 WRITE UP ; TOM\n",
    "TOM please also have a look through question 4, the notes are really clear above,\n",
    "I think some of the issues were from your functions earlier in the code and we weren't sure how to fix it.\n",
    "\n",
    "question 3 write up : ben\n",
    "\n",
    "question 4 write up: abigail\n",
    "    discussion: eleanor\n",
    "\n",
    "reference stuff: eleanor\n",
    "    \n",
    "question 6: patrick!"
   ]
  },
  {
   "cell_type": "code",
   "execution_count": null,
   "id": "1b930f7d",
   "metadata": {},
   "outputs": [],
   "source": [
    "vigenere_encrypt()"
   ]
  },
  {
   "cell_type": "code",
   "execution_count": null,
   "id": "103bc059",
   "metadata": {},
   "outputs": [],
   "source": []
  },
  {
   "cell_type": "code",
   "execution_count": null,
   "id": "b7c53c7d",
   "metadata": {},
   "outputs": [],
   "source": []
  }
 ],
 "metadata": {
  "kernelspec": {
   "display_name": "Python 3 (ipykernel)",
   "language": "python",
   "name": "python3"
  },
  "language_info": {
   "codemirror_mode": {
    "name": "ipython",
    "version": 3
   },
   "file_extension": ".py",
   "mimetype": "text/x-python",
   "name": "python",
   "nbconvert_exporter": "python",
   "pygments_lexer": "ipython3",
   "version": "3.9.13"
  }
 },
 "nbformat": 4,
 "nbformat_minor": 5
}
