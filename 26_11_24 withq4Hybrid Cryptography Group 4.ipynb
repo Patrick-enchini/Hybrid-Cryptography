{
 "cells": [
  {
   "cell_type": "code",
   "execution_count": 1,
   "id": "d9da7753",
   "metadata": {},
   "outputs": [],
   "source": [
    "##### IMPORTS ####\n",
    "import random, requests, os, matplotlib.pyplot as plt, cryptography_functions\n",
    "\n",
    "### LET USER INPUT TEXT FILE NAME ####"
   ]
  },
  {
   "cell_type": "code",
   "execution_count": 2,
   "id": "1784b74a",
   "metadata": {},
   "outputs": [],
   "source": [
    "#### FINDING FILE IN DIRECTORY ####\n",
    "\n",
    "def find_file():\n",
    "    in_directory = False\n",
    "\n",
    "    while in_directory == False:\n",
    "        file_name = input(\"Input the name of the text file you would like to encrypt / decrypt, including the .txt: \")\n",
    "        if os.path.isfile(file_name):\n",
    "            in_directory = True\n",
    "        else:\n",
    "            print(\"\")\n",
    "            print(\"The file you inputted is not in the directory, try again\")\n",
    "          \n",
    "    return file_name"
   ]
  },
  {
   "cell_type": "code",
   "execution_count": 3,
   "id": "b0f1171d",
   "metadata": {},
   "outputs": [],
   "source": [
    "#### CASESAR CYPHER ##### (maintains case of characters)\n",
    "\n",
    "def caesar_encrypt(): #defines the caesar encryption function\n",
    "    \n",
    "    file_name = find_file()\n",
    "\n",
    "    input_text = open(file_name,\"r\") #opens the text file we want to read\n",
    "    message = input_text.read() #reads the text file to the variable message\n",
    "    \n",
    "    encrypted_text = open(\"encrypted_text.txt\",\"w\") #opens the encrypted text file to which we write the encryption\n",
    "    \n",
    "    shift_value_file = open(\"_caesar_shift_value.txt\",\"w\")\n",
    "    shift_value = random.randint(1,26) #generates a shift value between 1 and 26 inclusive\n",
    "    \n",
    "    encrypted_message = []\n",
    "    \n",
    "    for character in message: #iterates character through each element of the message\n",
    "        if character.isalpha(): #checks to see if the character is in the alphabet\n",
    "            \n",
    "            if character.isupper(): #checks to see if character is uppercase\n",
    "                offset = 65 #sets appropriate offset value\n",
    "            else:\n",
    "                offset = 97\n",
    "            \n",
    "            character_offset = ord(character)-offset #offsets character to be between 0 and 25\n",
    "\n",
    "            encrypted_message.append(chr((character_offset+shift_value)%26+offset))\n",
    "            #appends our changed letter to the encrypted message list\n",
    "    \n",
    "\n",
    "    final_text = \"\".join(encrypted_message) #turns the list into a string\n",
    "    encrypted_text.write(final_text) #writes the string to the text file\n",
    "    shift_value_file.write(str(shift_value))\n",
    "    shift_value_file.close()\n",
    "    encrypted_text.close()\n",
    "    print(\"\")\n",
    "    print(\"Encrypted message written to encrypted_text.txt\")\n",
    "    input_text.close() #closes the files\n",
    "    \n",
    "    return \n"
   ]
  },
  {
   "cell_type": "code",
   "execution_count": 4,
   "id": "4cc24d0a",
   "metadata": {},
   "outputs": [],
   "source": [
    "def caesar_decrypt(): #needs a shift value to decrypt \n",
    "    \n",
    "    file_name = find_file() #lets the user input the file name they would like to read\n",
    "    \n",
    "    shift_value_file = open(\"_caesar_shift_value.txt\",\"r\") #opens the shift value file\n",
    "    shift_value = int(shift_value_file.read()) #read the integer value stored there\n",
    "    \n",
    "    encrypted_text = open(file_name,\"r\") #opens the encrypted text file to read\n",
    "    cryptic = encrypted_text.read() #sets cryptic to the string value of all the text in encrypted_text.txt\n",
    "    \n",
    "    decrypted_text = open(\"decrypted_text.txt\",\"w\") #opens the decrypted text file to write to    \n",
    "\n",
    "    decrypted_message = []\n",
    "       \n",
    "    for character in cryptic: #iterates each character in the cryptic text\n",
    "        if character.isalpha(): #checks if character is in alphabet\n",
    "            \n",
    "            if character.isupper(): #checks if character is uppercase\n",
    "                offset = 65 #sets appropriate offset\n",
    "            else:\n",
    "                offset = 97\n",
    "            \n",
    "            character_offset = ord(character)-offset #offsets character to be between 0 and 25\n",
    "            \n",
    "            decrypted_message.append(chr((character_offset-shift_value)%26+offset))\n",
    "            #appends decrypted character to decrypted message list\n",
    "    \n",
    "    \n",
    "        \n",
    "    final_text = \"\".join(decrypted_message) #changes the list into a string\n",
    "    decrypted_text.write(final_text) #writes the string to the text file\n",
    "    \n",
    "    decrypted_text.close()  \n",
    "    encrypted_text.close()#closes the files\n",
    "    print(\"\")\n",
    "    print(\"Decrypted message written to decrypted_text.txt\")\n",
    "    \n",
    "    return "
   ]
  },
  {
   "cell_type": "code",
   "execution_count": 5,
   "id": "d112525f",
   "metadata": {},
   "outputs": [],
   "source": [
    "#caesar_encrypt()"
   ]
  },
  {
   "cell_type": "code",
   "execution_count": 6,
   "id": "5bc39ff0",
   "metadata": {},
   "outputs": [],
   "source": [
    "#caesar_decrypt()"
   ]
  },
  {
   "cell_type": "code",
   "execution_count": 7,
   "id": "fdcdfebc",
   "metadata": {},
   "outputs": [],
   "source": [
    "#### VIGENERE CYPHER ####\n",
    "def vigenere_encrypt():\n",
    "    \n",
    "    file_name = find_file()\n",
    "    \n",
    "    input_text = open(file_name,\"r\") #opens the text file we want to read\n",
    "    message_list_unfiltered = list(input_text.read()) #reads the text file to the variable message\n",
    "    message_list = [x for x in message_list_unfiltered if x.isalpha()] #makes a list of only alphabetical characters\n",
    "    encrypted_text = open(\"encrypted_text.txt\",\"w\") #opens the encrypted text file to which we write the encryption\n",
    "    key_file = open(\"_vigenere_key.txt\",\"w\")\n",
    "   \n",
    "    \n",
    "    encrypted_message = []\n",
    "    key_length = random.randint(129,384) #generates a random length for our keyword\n",
    "    \n",
    "    key_list = [random.randint(0,25) for x in range(0,key_length)] #generates a list for our keyword in ASCII\n",
    "    \n",
    "    for i in range(0,len(message_list)):\n",
    "\n",
    "        key_pos =  i%len(key_list) #generates position of where we are in the key\n",
    "        \n",
    "\n",
    "        character = message_list[i] #sets character to message character for ease\n",
    "        if character.isupper(): #checks if y is uppercase in the alphabet\n",
    "            offset = 65 #sets ASCII offsets\n",
    "        else: offset = 97\n",
    "\n",
    "        character_offset = ord(character) - offset #offsets character to be within 0 and 25\n",
    "\n",
    "        character_encrypted = (character_offset+key_list[key_pos])%26 + offset #encrypts the character \n",
    "\n",
    "        encrypted_message.append(chr(character_encrypted)) #appends encrypted character to encrypted message\n",
    "       \n",
    "    final_text = \"\".join(encrypted_message)\n",
    "    encrypted_text.write(final_text) #writes the final encrypted message to the file\n",
    "    \n",
    "    key = \"\".join(chr(m+65) for m in key_list) #turns keylist into a string\n",
    "    key_file.write(key) #writes the key to the file\n",
    "    \n",
    "    \n",
    "    encrypted_text.close()\n",
    "    input_text.close() #closes the files\n",
    "    key_file.close()\n",
    "    \n",
    "    print(\"Encrypted text written to encrypted_text.txt, and vigenere key written to _vigenere_key.txt\")\n",
    "    \n",
    "    return      "
   ]
  },
  {
   "cell_type": "code",
   "execution_count": 8,
   "id": "74e49e46",
   "metadata": {},
   "outputs": [],
   "source": [
    "def vigenere_decrypt():\n",
    "    \n",
    "    file_name = find_file()\n",
    "    \n",
    "    key_file = open(\"_vigenere_key.txt\",\"r\") #opens file with key in it to read\n",
    "    key = key_file.read() #reads the file to key\n",
    "    key_list = [ord(m) - 65 for m in key] #offsets all values of key to be between 0 and 25\n",
    "    \n",
    "    encrypted_text = open(file_name,\"r\") #opens encrypted text file to read\n",
    "    cryptic = encrypted_text.read() #reads the file to cryptic\n",
    "    \n",
    "    decrypted_text = open(\"decrypted_text.txt\",\"w\") #opens the decrypted text file to write to\n",
    "    decrypted_message = [] #creates decrypted message list\n",
    "  \n",
    "    for i in range(0,len(cryptic)): #iterates through the encrypted message\n",
    "        character = cryptic[i] #sets character to the current character\n",
    "        key_pos = i%len(key_list) #sets our position within the key \n",
    "        \n",
    "        if character.isupper(): #checks to see if the character is uppercase\n",
    "            offset = 65 #sets appropriate offset value\n",
    "        else:\n",
    "            offset = 97\n",
    "            \n",
    "        character_offset = ord(character)-offset #offsets character to be between 0 and 25\n",
    "        \n",
    "        character_decrypted = (character_offset-key_list[key_pos])%26 + offset\n",
    "        #decrypts the character using the keyword\n",
    "        \n",
    "        decrypted_message.append(chr(character_decrypted)) #appends character to decrypted message\n",
    "        \n",
    "    final_text = \"\".join(decrypted_message) #turns decrypted message into a string\n",
    "    decrypted_text.write(final_text) #writes this string to the decrypted text file\n",
    "    \n",
    "    decrypted_text.close() #closes the files\n",
    "    encrypted_text.close()\n",
    "    key_file.close()\n",
    "    return\n",
    "    \n",
    "    \n",
    "    "
   ]
  },
  {
   "cell_type": "code",
   "execution_count": 9,
   "id": "e336494c",
   "metadata": {},
   "outputs": [],
   "source": [
    "#vigenere_encrypt()"
   ]
  },
  {
   "cell_type": "code",
   "execution_count": 10,
   "id": "486891a0",
   "metadata": {},
   "outputs": [],
   "source": [
    "#vigenere_decrypt()"
   ]
  },
  {
   "cell_type": "code",
   "execution_count": 11,
   "id": "87a19902",
   "metadata": {},
   "outputs": [],
   "source": [
    "#### URL TEXT EXTRACTING ####\n",
    "def url_to_text_utf8(url):  #### Sourced code from the GitHub repo provided for this project\n",
    "    '''\n",
    "    Given a url for a text that is \n",
    "    'utf-8' encoded this function \n",
    "    returns that text.\n",
    "    '''\n",
    "    response = requests.get(url) #gets the URL of the text file\n",
    "    response.encoding = 'utf-8-sig' #encodes the text file\n",
    "    return response.text #returns the text file\n",
    "           \n",
    "def get_large_text():        \n",
    "    wonderland = url_to_text_utf8(\"https://gutenberg.org/cache/epub/11/pg11.txt\")[1490:148820]\n",
    "    gatsby = url_to_text_utf8(\"https://gutenberg.org/cache/epub/64317/pg64317.txt\")[1497:278020]\n",
    "    dracula = url_to_text_utf8(\"https://gutenberg.org/cache/epub/345/pg345.txt\")[3130:860610]\n",
    "    moby = url_to_text_utf8(\"https://gutenberg.org/cache/epub/2701/pg2701.txt\")[6000:1241690]\n",
    "    frankenstein = url_to_text_utf8(\"https://gutenberg.org/cache/epub/84/pg84.txt\")[1440:427680]\n",
    "    #creates large strings of texts from english books for analysis later\n",
    "\n",
    "    text = wonderland + gatsby + dracula + moby + frankenstein\n",
    "    return text\n",
    "\n",
    "    #text gives us approximately 3 million characters to analyse (not all may be alphabet though most all are)\n"
   ]
  },
  {
   "cell_type": "code",
   "execution_count": 12,
   "id": "46720c91",
   "metadata": {},
   "outputs": [],
   "source": [
    "def frequency_finder(text):\n",
    "    descending_frequencies = open(\"decsending_frequent_letters.txt\",\"w\")\n",
    "    counts = {chr(x):0 for x in range(65,91)} #creates a dictionary of all the letters in the alphabet with value 0\n",
    "    text = text.upper() #makes all text uppercase\n",
    "    for character in text: #iterates through all the elements of the string \"text\"\n",
    "        if character in counts: #checks if the element is an alphabet letter\n",
    "            counts[character]+=1 #ups the count by one for each letter\n",
    "    sorted_counts = dict(sorted(counts.items(), key=lambda item: item[1],reverse=True)) #sorts the dictionary by value\n",
    "    frequency = [x for x in sorted_counts] #creates an ordered list of the letters in decreasing frequency\n",
    "    descending_frequencies.write(\"\".join(frequency))\n",
    "    descending_frequencies.close()\n",
    "    return frequency"
   ]
  },
  {
   "cell_type": "code",
   "execution_count": 13,
   "id": "a32396ce",
   "metadata": {},
   "outputs": [
    {
     "data": {
      "image/png": "[encoded data removed]",
      "text/plain": [
       "<Figure size 640x480 with 1 Axes>"
      ]
     },
     "metadata": {},
     "output_type": "display_data"
    }
   ],
   "source": [
    "#### GET FREQUENCY OF LETTERS IN ENGLISH LANGUAGE, WRITE TO FILE IN DESCENDING ORDER ####\n",
    "text = get_large_text()\n",
    "counts = {chr(x):0 for x in range(65,91)}\n",
    "text = text.upper()\n",
    "for character in text:\n",
    "    if character in counts:\n",
    "        counts[character]+=1\n",
    "\n",
    "letters = list(counts.keys())\n",
    "appearances = list(counts.values())\n",
    "plt.bar(range(len(counts)),appearances,tick_label=letters)\n",
    "\n",
    "plt.show() #shows graph of letter frequencies \n",
    "\n",
    "descending_frequencies = open(\"decsending_frequent_letters.txt\",\"w\")\n",
    "sorted_counts = dict(sorted(counts.items(), key=lambda item: item[1],reverse=True)) #sorts the dictionary by value\n",
    "frequency = [x for x in sorted_counts] #creates an ordered list of the letters in decreasing frequency\n",
    "descending_frequencies.write(\"\".join(frequency))\n",
    "descending_frequencies.close() #writes the most frequent letters in descending order to the file\n",
    "\n"
   ]
  },
  {
   "cell_type": "code",
   "execution_count": 14,
   "id": "be1e8d28",
   "metadata": {},
   "outputs": [],
   "source": [
    "##### CAESAR CYPHER BREAK VIA FREQUENCY ANALYSIS ####\n",
    "\n",
    "def caesar_frequency_break():\n",
    "    \n",
    "    #DONT NEED TO RUN FREQUENCY ANALYSIS EVERY TIME, WRITE TO TEXT FILE\n",
    "    file_name = find_file()\n",
    "    \n",
    "    encrypted_text = open(file_name,\"r\") #opens the encrypted text file to read\n",
    "    cryptic = encrypted_text.read() #sets cryptic to the string value of all the text in encrypted_text.txt\n",
    "    \n",
    "    decrypted_text = open(\"decrypted_text.txt\",\"w\") #opens the decrypted text file to write to  \n",
    "    \n",
    "    frequent_letters = open(\"decsending_frequent_letters.txt\",\"r\")    \n",
    "    frequency_list = list(frequent_letters.read()) #gets the list of the most frequent letters in descending order\n",
    "    \n",
    "  \n",
    "    \n",
    "    \n",
    "    \n",
    "    message_most_frequent = frequency_finder(cryptic)[0] #finds the most frequent letter in the encrypted message\n",
    "    \n",
    "    correctness = False \n",
    "    while correctness == False: #iterates until plaintext is found\n",
    "        for i in range(0,len(frequency_list)):\n",
    "            decrypted_message = []\n",
    "            \n",
    "            shift_value = ord(message_most_frequent) - ord(frequency_list[i]) \n",
    "            #finds the shift value with corresponding letter of frequency list \n",
    "            \n",
    "            for character in cryptic: #iterates each character in the cryptic text\n",
    "                if character.isalpha(): #checks if character is in alphabet\n",
    "\n",
    "                    if character.isupper(): #checks if character is uppercase\n",
    "                        offset = 65 #sets appropriate offset\n",
    "                    else:\n",
    "                        offset = 97\n",
    "\n",
    "                    character_offset = ord(character)-offset #offsets character to be between 0 and 25\n",
    "\n",
    "                    decrypted_message.append(chr((character_offset-shift_value)%26+offset))\n",
    "                    #appends decrypted character to decrypted message list\n",
    "            print(\"\".join(decrypted_message))\n",
    "            print(\"\")\n",
    "            x = input(\"Does this look like plaintext? Press enter if so, type anything else if not: \")\n",
    "            if x == \"\":\n",
    "                correctness = True\n",
    "                print(\"\")\n",
    "                print(\"Plaintext written to decrypted_text.txt\")\n",
    "                break\n",
    "            else:\n",
    "                continue\n",
    "    decrypted_text.write(\"\".join(decrypted_message)) #writes the plaintext to decrypted_text\n",
    "    decrypted_text.close()\n",
    "    encrypted_text.close()\n",
    "    frequent_letters.close() #closes the files\n",
    "    return\n",
    "    \n",
    "    "
   ]
  },
  {
   "cell_type": "code",
   "execution_count": 15,
   "id": "695b1841",
   "metadata": {},
   "outputs": [],
   "source": [
    "#caesar_encrypt()\n",
    "#caesar_frequency_break()"
   ]
  },
  {
   "cell_type": "code",
   "execution_count": 16,
   "id": "00af7289",
   "metadata": {},
   "outputs": [
    {
     "data": {
      "text/plain": [
       "(838080738380868082678873716767,)"
      ]
     },
     "execution_count": 16,
     "metadata": {},
     "output_type": "execute_result"
    }
   ],
   "source": [
    "#### TURN VIGENERE KEY INTO NUMBERS ####\n",
    " ## SPLIT KEY FIRST, RETURN TUPLE OF SPLIT KEY\n",
    "def key_to_tuple():\n",
    "    key_file = open(\"_vigenere_key.txt\",\"r\") #opens the vigenere key file\n",
    "    key = key_file.read() #reads the vigenere key to key\n",
    "\n",
    "    num_of_splits = len(key)//64 #gets the quotient of the key length when dividing by 64 to find out our splits\n",
    "    split_key = []\n",
    "    for i in range(0,num_of_splits+1): #iterates through splits\n",
    "        key_num_list = [] #creates a list for our number key\n",
    "        for character in range(64*i,64*(i+1)): #iterates through all characters of that split\n",
    "            if character == len(key): #makes sure not to go out of the range of the string\n",
    "                break\n",
    "            key_num_list.append(str(ord(key[character])))#appends the string value of the ASCII value of the character\n",
    "\n",
    "        key_num_str = \"\".join(key_num_list) #turns the list into a long string\n",
    "        key_num = int(key_num_str) #turns the string into an integer\n",
    "        split_key.append(key_num)#applies the split key to the big list\n",
    "  \n",
    "    return tuple(split_key)\n",
    "\n",
    "key_to_tuple()\n",
    "# EVERY 2 DIGITS REPRESENTS ONE OF THE LETTERS OF OUR KEY"
   ]
  },
  {
   "cell_type": "code",
   "execution_count": 56,
   "id": "654d7803",
   "metadata": {},
   "outputs": [],
   "source": [
    "#### RSA KEY GENERATOR ####\n",
    "\n",
    "def RSA_key_generator(bitlength=1024): #can take 128 numbers with Bitlength of 1024\n",
    "    \"\"\"This will generate RSA keys. This is a version of the private key.\n",
    "    The output is ((PublicKey), PrivateExp, Factorisation).\n",
    "    The PublicKey can be published, PrivateExp is needed to decrypt.\n",
    "    Factorisation is not needed, but must be kept secret.\"\"\"\n",
    "    ## Generate two large primes.\n",
    "    p = cryptography_functions.random_prime(bitlength)\n",
    "    q = cryptography_functions.random_prime(bitlength)\n",
    "    N = p*q\n",
    "    \n",
    "    ## Next, get phi and use it to get a public and private exponent.\n",
    "    phi = (p-1)*(q-1)\n",
    "    ## Choose encryption exponent e randomly between 1 and p and q.\n",
    "    e = random.randint(1,min(p,q))\n",
    "    ## It must be coprime to phi though. We use rejection sampling again:    \n",
    "    while cryptography_functions.gcd(e,phi) > 1:\n",
    "        e = random.randint(1,min(p,q))\n",
    "    \n",
    "    ## Finally, get d using 'pow'\n",
    "    ## (the extended Euclid's algorithm could do this too).\n",
    "    d = pow(e,-1,phi)\n",
    "    \n",
    "    ## Then return the keys.\n",
    "    return ((N,e),d%phi,{p:1,q:1})"
   ]
  },
  {
   "cell_type": "code",
   "execution_count": 58,
   "id": "5f82bc1e",
   "metadata": {},
   "outputs": [
    {
     "ename": "NameError",
     "evalue": "name 'vigi_key_list' is not defined",
     "output_type": "error",
     "traceback": [
      "\u001b[0;31m---------------------------------------------------------------------------\u001b[0m",
      "\u001b[0;31mNameError\u001b[0m                                 Traceback (most recent call last)",
      "Cell \u001b[0;32mIn[58], line 12\u001b[0m\n\u001b[1;32m      8\u001b[0m     \u001b[38;5;28;01mreturn\u001b[39;00m \u001b[38;5;28mtuple\u001b[39m(encrypted_key_list)\n\u001b[1;32m     10\u001b[0m public_key,d,factors \u001b[38;5;241m=\u001b[39m RSA_key_generator()\n\u001b[0;32m---> 12\u001b[0m cipher \u001b[38;5;241m=\u001b[39m \u001b[43mRSA_encrypt\u001b[49m\u001b[43m(\u001b[49m\u001b[43mpublic_key\u001b[49m\u001b[43m[\u001b[49m\u001b[38;5;241;43m0\u001b[39;49m\u001b[43m]\u001b[49m\u001b[43m,\u001b[49m\u001b[43mpublic_key\u001b[49m\u001b[43m[\u001b[49m\u001b[38;5;241;43m1\u001b[39;49m\u001b[43m]\u001b[49m\u001b[43m,\u001b[49m\u001b[43m \u001b[49m\u001b[43mkey_to_tuple\u001b[49m\u001b[43m(\u001b[49m\u001b[43m)\u001b[49m\u001b[43m)\u001b[49m\n\u001b[1;32m     13\u001b[0m \u001b[38;5;28mprint\u001b[39m(cipher)\n",
      "Cell \u001b[0;32mIn[58], line 4\u001b[0m, in \u001b[0;36mRSA_encrypt\u001b[0;34m(N, e, KEY_plural)\u001b[0m\n\u001b[1;32m      2\u001b[0m encrypted_key_list\u001b[38;5;241m=\u001b[39m[]\n\u001b[1;32m      3\u001b[0m _key_list \u001b[38;5;241m=\u001b[39m \u001b[38;5;28mlist\u001b[39m(KEY_plural)\n\u001b[0;32m----> 4\u001b[0m \u001b[38;5;28;01mfor\u001b[39;00m element \u001b[38;5;129;01min\u001b[39;00m \u001b[43mvigi_key_list\u001b[49m:\n\u001b[1;32m      5\u001b[0m     i\u001b[38;5;241m=\u001b[39m\u001b[38;5;28mpow\u001b[39m(element,e,N)\n\u001b[1;32m      6\u001b[0m     encrypted_key_list\u001b[38;5;241m.\u001b[39mappend(i)\n",
      "\u001b[0;31mNameError\u001b[0m: name 'vigi_key_list' is not defined"
     ]
    }
   ],
   "source": [
    "def RSA_encrypt(N,e):\n",
    "    encrypted_key_list=[]\n",
    "    vigi_key_list = list(key_to_tuple())\n",
    "    for element in vigi_key_list:\n",
    "        i=pow(element,e,N)\n",
    "        encrypted_key_list.append(i)\n",
    "    \"\"\"Encrypt an integer 'message' using RSA with public key (N,e).\"\"\"\n",
    "    return tuple(encrypted_key_list)\n",
    "\n",
    "public_key,d,factors = RSA_key_generator()\n",
    "\n",
    "cipher = RSA_encrypt(public_key[0],public_key[1])\n",
    "print(cipher)\n",
    "\n",
    "\n",
    "#attempt at changing it\n",
    "def RSA_encrypt(N,e,KEY_plural):\n",
    "    encrypted_key_list=[]\n",
    "    _key_list = list(KEY_plural)\n",
    "    for element in vigi_key_list:\n",
    "        i=pow(element,e,N)\n",
    "        encrypted_key_list.append(i)\n",
    "    \"\"\"Encrypt an integer 'message' using RSA with public key (N,e).\"\"\"\n",
    "    return tuple(encrypted_key_list)\n",
    "\n",
    "public_key,d,factors = RSA_key_generator()\n",
    "\n",
    "cipher = RSA_encrypt(public_key[0],public_key[1], key_to_tuple())\n",
    "print(cipher)tuple(encrypted_key_list)\n",
    "\n",
    "public_key,d,factors = RSA_key_generator()\n",
    "\n",
    "cipher = RSA_encrypt(public_key[0],public_key[1])\n",
    "print(cipher)\n"
   ]
  },
  {
   "cell_type": "code",
   "execution_count": 19,
   "id": "c13ef2ad",
   "metadata": {},
   "outputs": [
    {
     "name": "stdout",
     "output_type": "stream",
     "text": [
      "838080738380868082678873716767\n"
     ]
    }
   ],
   "source": [
    "def RSA_decrypt(encrypted_key,N,d):\n",
    "    complete_key=[]\n",
    "    decryption_list=list(encrypted_key)\n",
    "    for element in decryption_list:\n",
    "        j=pow(element,d,N)\n",
    "        complete_key.append(str(j))\n",
    "    \"\"\"Decrypt an integer message using RSA with public key (N,e) and private key (d, fact).\"\"\"\n",
    "    return \"\".join(complete_key)\n",
    "\n",
    "received_int = RSA_decrypt(cipher,public_key[0],d)\n",
    "\n",
    "print(received_int)"
   ]
  },
  {
   "cell_type": "code",
   "execution_count": 20,
   "id": "8d1a4ab6",
   "metadata": {},
   "outputs": [
    {
     "name": "stdout",
     "output_type": "stream",
     "text": [
      "256\n"
     ]
    }
   ],
   "source": [
    "print(len(\"8678868975786684757371837574908171717884807067706983788273708868826974767772666782677988658883838688676675696866747472838985868370657690667386787588827288708780667774898573727980806566908868878768727981807589887875757090697368737176658670788785678190906586\"))"
   ]
  },
  {
   "cell_type": "code",
   "execution_count": 21,
   "id": "36162682",
   "metadata": {},
   "outputs": [
    {
     "name": "stdout",
     "output_type": "stream",
     "text": [
      "128\n"
     ]
    }
   ],
   "source": [
    "\n",
    "print(len(\"86788689757866847573718375749081717178848070677069837882737088688269747677726667826779886588838386886766756968667474728389858683\"))"
   ]
  },
  {
   "cell_type": "code",
   "execution_count": 42,
   "id": "9197939b",
   "metadata": {},
   "outputs": [
    {
     "name": "stdout",
     "output_type": "stream",
     "text": [
      "{'a': ['ls', 'is', 'ia', 'jt', 'ur', 'em', 'sr', 'lh', 'rz', 'hz', 'ar', 'yj', 'sv', 'xu', 'jy', 'ic', 'vo', 'sd', 'pz', 'kw', 'vs', 'ok', 'kb', 'cz', 'bd', 'up', 'iq', 'lb', 'vh', 'ad', 'ez', 'qe', 'xr', 'go', 'hv', 'cx', 'ul', 'fj', 'nb', 'bg', 'ry', 'mi', 'lu', 'pw', 'gv', 'vc', 'pm', 're', 'kh', 'vl', 'yi', 'bh'], 'b': ['sg', 'np', 'gh', 'ao', 'vu', 'wv', 'nz', 'le', 'ab', 'wn'], 'c': ['gw', 'zf', 'sa', 'rt', 'rb', 'rp', 'lw', 'an', 'ub', 'ow', 'kt', 'oy', 'pa', 'mv', 'vg'], 'd': ['jk', 'xj', 'jc', 'qd', 'zo', 'aq', 'uq', 'fm', 'pk', 'gt', 'av', 'lt', 'ud', 'tc', 'cp', 'in', 'xs', 'et', 'di', 'eq', 'fs', 'tm', 'ef', 'ni', 'vq', 'bp', 'wr', 'rh'], 'e': ['gf', 'xv', 'bv', 'ci', 'ae', 'ev', 'bf', 'vp', 'yb', 'og', 'xl', 'lq', 'ho', 'xy', 'sq', 'qx', 'ag', 'xe', 'ac', 'si', 'nj', 'yp', 'uz', 'gx', 'zi', 'ai', 'ed', 'kj', 'jq', 'zr', 'qm', 'hf', 'gy', 'xb', 'lo', 'tj', 'hx', 'tn', 'uf', 'qh', 'ne', 'kl', 'dh', 'tk', 'od', 'xc', 'fv', 'vf', 'sb', 'zm', 'zj', 'td', 'kg', 'hd', 'kx', 'dt', 'ea', 'jo', 'wx', 'fw', 'cd', 'un', 'zn', 'yw', 'fo', 'au', 'en', 'ya', 'do', 'xo', 'ph', 'st', 'tx', 'fx', 'ja', 'ek', 'ms', 'ta', 'jb', 'ov'], 'f': ['nf', 'ma', 'rc', 'eu', 'xq', 'lz', 'yt', 'cv', 'rw', 'bs', 'bj', 'zu', 'ox', 'sz'], 'g': ['dn', 'oi', 'kd', 'im', 'it', 'to', 'eg', 'fb', 'vn', 'vk', 'rn', 'va', 'vm', 'gq'], 'h': ['zk', 'mt', 'ex', 'qt', 'bi', 'xi', 'cu', 'er', 'gm', 'bc', 'lk', 'pj', 'so', 'ps', 'ty', 'su', 'fc', 'ij', 'jr', 'bn', 'io', 'bm', 'am', 'gr', 'el', 'sn', 'at', 'dg', 'lm', 'kc', 'il', 'hm', 'ql', 'zs', 'me', 'pb', 'qg', 'tr', 'pf', 'sl', 'py', 'um'], 'i': ['rf', 'bu', 'rj', 'js', 'oe', 'my', 'se', 'zd', 'qa', 'th', 'zc', 'pd', 'as', 'be', 'bw', 'wl', 'ru', 'hu', 'ix', 'uw', 'zw', 'zp', 'ip', 'ld', 'vj', 'xa', 'rg', 'ct', 'ye', 'wc', 'qs', 'ra', 'dr', 'vt', 'gl', 've', 'mc', 'mh', 'px', 'oc', 'ey', 'cq', 'qz', 'wy', 'jh'], 'j': ['ux'], 'k': ['tb', 'zq', 'lx', 'cl', 'wk', 'ce'], 'l': ['no', 'pc', 'ts', 'gs', 'ax', 'ko', 'pq', 'hg', 'mf', 'tu', 'tg', 'ah', 'gb', 'tl', 'cr', 'ba', 'cm', 'iz', 'mb', 'bz', 'dp', 'yl', 'hi', 'af', 'yk', 'kz', 'dy'], 'm': ['vz', 'gp', 'of', 'sj', 'wm', 'rv', 'kq', 'sm', 'wu', 'vd', 'cs', 'jn', 'we', 'fg', 'oh', 'km', 'zg'], 'n': ['zb', 'ny', 'qc', 'li', 'mj', 'zy', 'ap', 'mz', 'pn', 'pt', 'wg', 'yc', 'cw', 'pr', 'sh', 'jl', 'or', 'bx', 'fh', 'jm', 'pu', 'wd', 'kn', 'fl', 'oa', 'rq', 'vr', 'db', 'rs', 'op', 'on', 'dc', 'ui', 'dl', 'ck', 'eo', 'lr', 'tq', 'nw', 'fy', 'gc', 'qk', 'hc', 'cn', 'us'], 'o': ['mw', 'if', 'nv', 'qv', 'mk', 'iu', 'ly', 'pl', 'qj', 'ro', 'jp', 'xf', 'xt', 'ju', 'vw', 'fd', 'wi', 'mx', 'xz', 'oq', 'zh', 'ak', 'fk', 'bk', 'xn', 'yg', 'cb', 'lj', 'ue', 'mu', 'wz', 'hn', 'ih', 'kr', 'wh', 'dq', 'uv', 'rx', 'ws', 'ot', 'nl', 'ol', 'ig', 'tw', 'ge', 'yo', 'fp', 'hk', 'tf'], 'p': ['hw', 'mn', 'nd', 'gd', 'by', 'zt', 'lg', 'rk', 'tv', 'bl', 'dv'], 'q': ['es'], 'r': ['kp', 'te', 'iv', 'na', 'wb', 'os', 'ep', 'wa', 'la', 'iw', 'ik', 'sp', 'yf', 'dk', 'df', 'dm', 'ys', 'qo', 'ke', 'fu', 'nr', 'wq', 'zx', 'lv', 'xm', 'gj', 'zl', 'mp', 'gi', 'nx', 'yd', 'fq', 'pg', 'qr', 'fz', 'pe'], 's': ['sx', 'du', 'pi', 'xg', 'rm', 'aw', 'xp', 'ej', 'yx', 'nm', 'cj', 'jv', 'ga', 'po', 'jg', 'uj', 'lc', 'hp', 'vy', 'ha', 'hb', 'yn', 'hr', 'ml', 'xh', 'oj', 'nt', 'ug', 'dw', 'dx', 'aj', 'ku', 'uo', 'uh', 'mo', 'ng', 'wo', 'nq', 'ym', 'mq', 'kf', 'wf'], 't': ['al', 'ki', 'hj', 'da', 'jz', 'ib', 'yv', 'de', 'qy', 'qi', 'xk', 'ut', 'nh', 'ft', 'ky', 'za', 'ds', 'wp', 'fr', 'yz', 'kv', 'uy', 'vx', 'hq', 'fi', 'lf', 'sw', 'rl', 'ti', 'hy', 'yr', 'ln', 'sc', 'id', 'lp', 'fn', 'iy', 'bq', 'vb', 'ob', 'qw', 'ze', 'tp', 'dj', 'qn', 'uk', 'bt', 'fa', 'ua', 'ec', 'qf', 'sf', 'cf', 'ns', 'yh', 'gu', 'ca', 'yq'], 'u': ['tz', 'vi', 'ht', 'sk', 'sy', 'br', 'ou', 'fe', 'gk', 'ch', 'nu', 'he', 'qu', 'nc', 'rd', 'ie', 'co', 'om', 'xw'], 'v': ['az', 'hs', 'hl', 'cy', 'nk', 'uc'], 'w': ['gn', 'jw', 'jx', 'jd', 'bo', 'ks', 'mg', 'qp', 'ay', 'md', 'cg', 'je', 'jf', 'ri', 'eb', 'yu'], 'x': ['dz'], 'y': ['pv', 'wj', 'ir', 'ji', 'mr', 'xd', 'ei', 'zv', 'wt', 'oz', 'qb', 'eh', 'gz'], 'z': ['ew']}\n"
     ]
    }
   ],
   "source": [
    "from random import randint\n",
    "from random import sample\n",
    "import string\n",
    "from itertools import permutations\n",
    "\n",
    "ALPH_1 = string.ascii_lowercase\n",
    "\n",
    "# round? = The return value is an integer\n",
    "\n",
    "# create bigrams:\n",
    "\n",
    "\n",
    "\n",
    "fr = {'a': 0.0813382530968154, 'b': 0.015772428180238454, 'c': 0.02307211235643865, 'd': 0.04378202350586753, 'e': 0.12486207836182597, 'f': 0.022079076561585642, 'g': 0.020784064969467386, 'h': 0.06501369165412156, 'i': 0.06853376455715428, 'j': 0.00125078732595071, 'k': 0.00849105910416825, 'l': 0.04209882113294529, 'm': 0.026337113986929273, 'n': 0.06876203324414029, 'o': 0.0749226075342068, 'p': 0.01639692842369527, 'q': 0.0012807168798216735, 'r': 0.05524995644579847, 's': 0.06410999781112219, 't': 0.09143076668795984, 'u': 0.028544753617232275, 'v': 0.00937018391040789, 'w': 0.024949633474642522, 'x': 0.0013084128848962963, 'y': 0.019657016246833945, 'z': 0.0006017180457341452}\n",
    "\n",
    "#all_bigrams = []\n",
    " #   for c in ALPH_1:\n",
    "  #      for d in ALPH_1:\n",
    "   #         all_bigrams.append(c + d)\n",
    "    \n",
    "encode_dict = dict()\n",
    "\n",
    "def bigrams(fr):\n",
    "\n",
    "    global encode_dict\n",
    "    all_bigrams = [\"\".join(pair) for pair in permutations(ALPH_1, 2)]\n",
    "  #  su = []\n",
    "    \n",
    "    for key in fr:\n",
    "        \n",
    "        freq = fr[key]\n",
    "        \n",
    "        bi_quantity = round(650*freq)\n",
    "        if bi_quantity == 0:\n",
    "            bi_quantity = 1\n",
    "        if bi_quantity > 50:\n",
    "            bi_quantity -= 1\n",
    "      \n",
    "        storage = sample(all_bigrams, bi_quantity)\n",
    "        \n",
    "        all_bigrams = [bigram for bigram in all_bigrams if bigram not in storage]\n",
    "        encode_dict[key]=storage\n",
    "       \n",
    "    return encode_dict\n",
    "\n",
    "print (bigrams(fr))"
   ]
  },
  {
   "cell_type": "code",
   "execution_count": 45,
   "id": "c5a032ca",
   "metadata": {},
   "outputs": [],
   "source": [
    "# second part of question 4 below\n",
    "\n",
    "import string\n",
    "ALPH_1 = string.ascii_lowercase\n",
    "\n",
    "def char_to_byte(char): \n",
    "    \"\"\"\n",
    "    Returns the 8 bit binary representation (padded with \n",
    "    leading zeros when necessary) of ord(char), i.e. of \n",
    "    the order of the input character char. \n",
    "    \"\"\"\n",
    "    byte_string = bin(ord(char))[2:]            # The order of char as a binary string \n",
    "    num_zeros = 8 - len(byte_string)            # The number of zeros needed to pad out byte_string\n",
    "    byte_string = '0' * num_zeros + byte_string # Now pad out byte_string with num_zeros many zeros\n",
    "                                                # to obtain the 8-bit binary representation\n",
    "    return byte_string  \n",
    "\n",
    "\n",
    "#global encode_dict\n",
    "# replace this dectionary wiht the dictionary we've made of 2grams\n",
    "\n",
    "def int_form(key1):\n",
    "    two_grams = encode_dict[key1] \n",
    "    y = \"\".join(two_grams)\n",
    "    list = []\n",
    "    list.append(' 1')\n",
    "    binary = [char_to_byte(char) for char in y]\n",
    "    biny = \"\".join(binary)\n",
    "    list.append(biny)\n",
    "    return \"\".join(list)\n",
    "\n",
    "key = []\n",
    "Vig = str(key_to_tuple()[0])\n",
    "key.append(Vig)\n",
    "for key2 in ALPH_1:\n",
    "    item = int_form(key2)\n",
    "    key.append(item)\n",
    "\n",
    "key_final = \"\".join(key)\n",
    "    \n",
    "#print(key_final)\n"
   ]
  },
  {
   "cell_type": "code",
   "execution_count": 46,
   "id": "4f787d28",
   "metadata": {
    "scrolled": false
   },
   "outputs": [
    {
     "name": "stdout",
     "output_type": "stream",
     "text": [
      "['838080738380868082678873716767 10110110001110011011010010111001101101001011000010110101001110100011101010111001001100101011011010111001101110010011011000110100001110010011110100110100001111010011000010111001001111001011010100111001101110110011110000111010101101010011110010110100101100011011101100110111101110011011001000111000001111010011010110111011101110110011100110110111101101011011010110110001001100011011110100110001001100100011101010111000001101001011100010110110001100010011101100110100001100001011001000110010101111010011100010110010101111000011100100110011101101111011010000111011001100011011110000111010101101100011001100110101001101110011000100110001001100111011100100111100101101101011010010110110001110101011100000111011101100111011101100111011001100011011100000110110101110010011001010110101101101000011101100110110001111001011010010110001001101000 10111001101100111011011100111000001100111011010000110000101101111011101100111010101110111011101100110111001111010011011000110010101100001011000100111011101101110 1011001110111011101111010011001100111001101100001011100100111010001110010011000100111001001110000011011000111011101100001011011100111010101100010011011110111011101101011011101000110111101111001011100000110000101101101011101100111011001100111 101101010011010110111100001101010011010', '10011000110111000101100100011110100110111101100001011100010111010101110001011001100110110101110000011010110110011101110100011000010111011001101100011101000111010101100100011101000110001101100011011100000110100101101110011110000111001101100101011101000110010001101001011001010111000101100110011100110111010001101101011001010110011001101110011010010111011001110001011000100111000001110111011100100111001001101000 101100111011001100111100001110110011000100111011001100011011010010110000101100101011001010111011001100010011001100111011001110000011110010110001001101111011001110111100001101100011011000111000101101000011011110111100001111001011100110111000101110001011110000110000101100111011110000110010101100001011000110111001101101001011011100110101001111001011100000111010101111010011001110111100001111010011010010110000101101001011001010110010001101011011010100110101001110001011110100111001001110001011011010110100001100110011001110111100101111000011000100110110001101111011101000110101001101000011110000111010001101110011101010110011001110001011010000110111001100101011010110110110001100100011010000111010001101011011011110110010001111000011000110110011001110110011101100110011001110011011000100111101001101101011110100110101001110100011001000110101101100111011010000110010001101011011110000110010001110100', '011001010110000101101010011011110111011101111000011001100111011101100011011001000111010101101110011110100110111001111001011101110110011001101111011000010111010101100101011011100111100101100001011001000110111101111000011011110111000001101000011100110111010001110100011110000110011001111000011010100110000101100101011010110110110101110011011101000110000101101010011000100110111101110110 101101110011001100110110101100001011100100110001101100101011101010111100001110001011011000111101001111001011101000110001101110110011100100111011101100010011100110110001001101010011110100111010101101111011110000111001101111010 101100100011011100110111101101001011010110110010001101001011011010110100101110100011101000110111101100101011001110110011001100010011101100110111001110110011010110111001001101110011101100110000101110110011011010110011101110001 101111010011010110110110101110100011001010111100001110001011101000110001001101001011110000110100101100011011101010110010101110010011001110110110101100010011000110110110001101011011100000110101001110011011011110111000001110011011101000111100101110011011101010110011001100011011010010110101001101010011100100110001001101110011010010110111101100010011011010110000101101101011001110111001001100101011011000111001101101110011000010111010001100100011001110110110001101101011010', '1101100011011010010110110001101000011011010111000101101100011110100111001101101101011001010111000001100010011100010110011101110100011100100111000001100110011100110110110001110000011110010111010101101101 1011100100110011001100010011101010111001001101010011010100111001101101111011001010110110101111001011100110110010101111010011001000111000101100001011101000110100001111010011000110111000001100100011000010111001101100010011001010110001001110111011101110110110001110010011101010110100001110101011010010111100001110101011101110111101001110111011110100111000001101001011100000110110001100100011101100110101001111000011000010111001001100111011000110111010001111001011001010111011101100011011100010111001101110010011000010110010001110010011101100111010001100111011011000111011001100101011011010110001101101101011010000111000001111000011011110110001101100101011110010110001101110001011100010111101001110111011110010110101001101000 10111010101111000 1011101000110001001111010011100010110110001111000011000110110110001110111011010110110001101100101 101101110011011110111000001100011011101000111001101100111011100110110000101111000011010110110111101110000011100010110100001100111011011010110011001110100011101010111010001100111011000010110100001100111011000100111010001101100011000110111001001100010011000010110001101', '1011010110100101111010011011010110001001100010011110100110010001110000011110010110110001101000011010010110000101100110011110010110101101101011011110100110010001111001 101110110011110100110011101110000011011110110011001110011011010100111011101101101011100100111011001101011011100010111001101101101011101110111010101110110011001000110001101110011011010100110111001110111011001010110011001100111011011110110100001101011011011010111101001100111 1011110100110001001101110011110010111000101100011011011000110100101101101011010100111101001111001011000010111000001101101011110100111000001101110011100000111010001110111011001110111100101100011011000110111011101110000011100100111001101101000011010100110110001101111011100100110001001111000011001100110100001101010011011010111000001110101011101110110010001101011011011100110011001101100011011110110000101110010011100010111011001110010011001000110001001110010011100110110111101110000011011110110111001100100011000110111010101101001011001000110110001100011011010110110010101101111011011000111001001110100011100010110111001110111011001100111100101100111011000110111000101101011011010000110001101100011011011100111010101110011 1011011010111011101101001011001100110111001110110011100010111011001101101011010110110100101110101011011000111100101110000011011000111000101101010', '0111001001101111011010100111000001111000011001100111100001110100011010100111010101110110011101110110011001100100011101110110100101101101011110000111100001111010011011110111000101111010011010000110000101101011011001100110101101100010011010110111100001101110011110010110011101100011011000100110110001101010011101010110010101101101011101010111011101111010011010000110111001101001011010000110101101110010011101110110100001100100011100010111010101110110011100100111100001110111011100110110111101110100011011100110110001101111011011000110100101100111011101000111011101100111011001010111100101101111011001100111000001101000011010110111010001100110 101101000011101110110110101101110011011100110010001100111011001000110001001111001011110100111010001101100011001110111001001101011011101000111011001100010011011000110010001110110 10110010101110011 101101011011100000111010001100101011010010111011001101110011000010111011101100010011011110111001101100101011100000111011101100001011011000110000101101001011101110110100101101011011100110111000001111001011001100110010001101011011001000110011001100100011011010111100101110011011100010110111101101011011001010110011001110101011011100111001001110111011100010111101001111000011011000111011001111000011011010110011101101010011110100110110001101101011100000110011101101001011011', '1001111000011110010110010001100110011100010111000001100111011100010111001001100110011110100111000001100101 1011100110111100001100100011101010111000001101001011110000110011101110010011011010110000101110111011110000111000001100101011010100111100101111000011011100110110101100011011010100110101001110110011001110110000101110000011011110110101001100111011101010110101001101100011000110110100001110000011101100111100101101000011000010110100001100010011110010110111001101000011100100110110101101100011110000110100001101111011010100110111001110100011101010110011101100100011101110110010001111000011000010110101001101011011101010111010101101111011101010110100001101101011011110110111001100111011101110110111101101110011100010111100101101101011011010111000101101011011001100111011101100110 10110000101101100011010110110100101101000011010100110010001100001011010100111101001101001011000100111100101110110011001000110010101110001011110010111000101101001011110000110101101110101011101000110111001101000011001100111010001101011011110010111101001100001011001000111001101110111011100000110011001110010011110010111101001101011011101100111010101111001011101100111100001101000011100010110011001101001011011000110011001110011011101110111001001101100011101000110100101101000011110010111100101110010011011000110111001110011011000', '110110100101100100011011000111000001100110011011100110100101111001011000100111000101110110011000100110111101100010011100010111011101111010011001010111010001110000011001000110101001110001011011100111010101101011011000100111010001100110011000010111010101100001011001010110001101110001011001100111001101100110011000110110011001101110011100110111100101101000011001110111010101100011011000010111100101110001 10111010001111010011101100110100101101000011101000111001101101011011100110111100101100010011100100110111101110101011001100110010101100111011010110110001101101000011011100111010101101000011001010111000101110101011011100110001101110010011001000110100101100101011000110110111101101111011011010111100001110111 1011000010111101001101000011100110110100001101100011000110111100101101110011010110111010101100011 10110011101101110011010100111011101101010011110000110101001100100011000100110111101101011011100110110110101100111011100010111000001100001011110010110110101100100011000110110011101101010011001010110101001100110011100100110100101100101011000100111100101110101 10110010001111010 10111000001110110011101110110101001101001011100100110101001101001011011010111001001111000011001000110010101101001011110100111011001110111011101000110111101111010011100010110001001100101011010000110011101111010 10110010101110111']\n"
     ]
    }
   ],
   "source": [
    "def prep_for_RSA(string_input,segment_len):\n",
    "    string= [string_input[i:i+segment_len]for i in range(0,len(string_input), segment_len)]\n",
    "    if len(string) == 8:\n",
    "        return string\n",
    "    else:\n",
    "        last_two = [string[7], string[8]]\n",
    "        string.remove(string[8])\n",
    "        string[7] = \"\".join(last_two)\n",
    "        return string\n",
    "    \n",
    "eights = prep_for_RSA(key_final, len(key_final)//8)\n",
    "print(eights)\n",
    "#len(eights)"
   ]
  },
  {
   "cell_type": "code",
   "execution_count": null,
   "id": "235a9a24",
   "metadata": {},
   "outputs": [],
   "source": [
    " we need to rsa encrypt all these integers and send them in a list called the public key\n",
    "    we also need to send the message which is encrypted wiht the 2grams and vif=g\n",
    "    and send it"
   ]
  },
  {
   "cell_type": "code",
   "execution_count": 55,
   "id": "0699429f",
   "metadata": {},
   "outputs": [
    {
     "ename": "AttributeError",
     "evalue": "'function' object has no attribute 'range'",
     "output_type": "error",
     "traceback": [
      "\u001b[0;31m---------------------------------------------------------------------------\u001b[0m",
      "\u001b[0;31mAttributeError\u001b[0m                            Traceback (most recent call last)",
      "Cell \u001b[0;32mIn[55], line 1\u001b[0m\n\u001b[0;32m----> 1\u001b[0m encode_dict[\u001b[38;5;124m'\u001b[39m\u001b[38;5;124ma\u001b[39m\u001b[38;5;124m'\u001b[39m][\u001b[43mrandint\u001b[49m\u001b[38;5;241;43m.\u001b[39;49m\u001b[43mrange\u001b[49m(\u001b[38;5;28mlen\u001b[39m(encode_dict[\u001b[38;5;124m'\u001b[39m\u001b[38;5;124ma\u001b[39m\u001b[38;5;124m'\u001b[39m])\u001b[38;5;241m-\u001b[39m\u001b[38;5;241m1\u001b[39m)]\n",
      "\u001b[0;31mAttributeError\u001b[0m: 'function' object has no attribute 'range'"
     ]
    }
   ],
   "source": [
    "#rsa encryption of our key\n",
    "\n",
    "\n",
    "\n",
    "encode_dict['a'][randint.range(len(encode_dict['a'])-1)]\n",
    "\n"
   ]
  },
  {
   "cell_type": "code",
   "execution_count": null,
   "id": "7406f5d9",
   "metadata": {},
   "outputs": [],
   "source": []
  },
  {
   "cell_type": "code",
   "execution_count": null,
   "id": "1b930f7d",
   "metadata": {},
   "outputs": [],
   "source": []
  },
  {
   "cell_type": "code",
   "execution_count": null,
   "id": "103bc059",
   "metadata": {},
   "outputs": [],
   "source": [
    "def prep_for_RSA(string_input,num_segments):\n",
    "    split_points=sorted(random.sample(range(1,len(text)),num_segments-1))\n",
    "    segments=[text[i:j]for i,j in zip([0]+split_points,split_points+[len(text)])]\n",
    "    return segments\n",
    "print (prep_for_RSA(key_final,8))"
   ]
  }
 ],
 "metadata": {
  "kernelspec": {
   "display_name": "Python 3 (ipykernel)",
   "language": "python",
   "name": "python3"
  },
  "language_info": {
   "codemirror_mode": {
    "name": "ipython",
    "version": 3
   },
   "file_extension": ".py",
   "mimetype": "text/x-python",
   "name": "python",
   "nbconvert_exporter": "python",
   "pygments_lexer": "ipython3",
   "version": "3.9.13"
  }
 },
 "nbformat": 4,
 "nbformat_minor": 5
}
